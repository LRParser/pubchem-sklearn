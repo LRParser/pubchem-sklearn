{
 "cells": [
  {
   "cell_type": "markdown",
   "metadata": {},
   "source": [
    "## Overview ##\n",
    "\n",
    "PubChem is a site run by the NIH which hosts raw data associated with chemical experiments; here we analyze the data hosted at PubChem for assay 1030, which looks for inhibitors of the protein encoding gene ALDH1A1. You can access the page for this assay [here](https://pubchem.ncbi.nlm.nih.gov/bioassay/1030)\n",
    "\n",
    "## Results ##\n",
    "\n",
    "We use the SMILES string, a common representation for a molecule amongst chemists, to begin the featurization process. Because the length of this string varies, it is normalized in the form of a Morgan Fingerprint; these are then used to train various binary classifiers"
   ]
  },
  {
   "cell_type": "code",
   "execution_count": 1,
   "metadata": {
    "collapsed": true
   },
   "outputs": [],
   "source": [
    "import pickle\n",
    "import numpy as np\n",
    "import pandas as pd\n",
    "from rdkit import Chem, DataStructs\n",
    "from rdkit.Chem import AllChem, rdMolDescriptors\n",
    "from sklearn.ensemble import RandomForestClassifier\n",
    "\n",
    "import warnings\n",
    "warnings.filterwarnings('ignore')\n",
    "\n",
    "global_random_state = 42\n",
    "\n",
    "np.random.seed(global_random_state)"
   ]
  },
  {
   "cell_type": "code",
   "execution_count": 2,
   "metadata": {},
   "outputs": [
    {
     "name": "stdout",
     "output_type": "stream",
     "text": [
      "Processed index: 0\n",
      "Processed index: 10000\n",
      "Processed index: 20000\n",
      "Processed index: 30000\n",
      "Processed index: 40000\n",
      "Processed index: 50000\n",
      "Processed index: 60000\n",
      "Processed index: 70000\n",
      "Processed index: 80000\n",
      "Processed index: 90000\n",
      "Processed index: 100000\n",
      "Processed index: 110000\n",
      "Processed index: 120000\n",
      "Processed index: 130000\n",
      "Processed index: 140000\n",
      "Processed index: 150000\n",
      "Processed index: 160000\n",
      "Processed index: 170000\n",
      "Processed index: 180000\n",
      "Processed index: 190000\n",
      "Processed index: 200000\n",
      "Processed index: 210000\n",
      "Processed index: 220000\n",
      "Processed all, pickling\n"
     ]
    }
   ],
   "source": [
    "# Load assay info. Note: This CSV was obtained from PubChem bioassay aka PCBA, via searching for AID 1030 \n",
    "# and downloading the datatable\n",
    "\n",
    "ba_df = pd.read_csv(\"AID_1030_datatable_all.csv\")\n",
    "\n",
    "# Load compound info\n",
    "cs_df = pd.read_csv(\"AID_1030_compound_smiles.csv\",sep='\\t',header=0)\n",
    "\n",
    "# Merge the two\n",
    "full_df = ba_df.merge(cs_df,on='PUBCHEM_CID')\n",
    "\n",
    "# Cleanup the compound ID column\n",
    "full_df[\"PUBCHEM_CID\"] = full_df[\"PUBCHEM_CID\"].astype(int)\n",
    "\n",
    "compound_ids = list()\n",
    "smiles_list = list()\n",
    "fingerprints = list()\n",
    "activities = list()\n",
    "\n",
    "for index, row in full_df.iterrows() :\n",
    "    cid = row[\"PUBCHEM_CID\"]\n",
    "    smiles_string = row[\"Smiles\"]\n",
    "    mol = Chem.MolFromSmiles(smiles_string)\n",
    "    is_active = row[\"PUBCHEM_ACTIVITY_OUTCOME\"] == \"Active\"\n",
    "    if mol is not None: \n",
    "        fingerprint = rdMolDescriptors.GetMorganFingerprintAsBitVect(mol,2,nBits=2048,useChirality=False,\n",
    "                                                                     useBondTypes=False,useFeatures=False)\n",
    "        \n",
    "        # From RDKit documentation\n",
    "        arr = np.zeros((1,))\n",
    "        DataStructs.ConvertToNumpyArray(fingerprint, arr)\n",
    "        fingerprint = arr\n",
    "        \n",
    "        compound_ids.append(cid)\n",
    "        smiles_list.append(smiles_string)\n",
    "        fingerprints.append(fingerprint)\n",
    "        activities.append(is_active)\n",
    "    \n",
    "    if index % 10000 == 0:\n",
    "        print(\"Processed index: {0}\".format(index))\n",
    "\n",
    "print(\"Processed all, pickling\")\n",
    "\n",
    "compound_ids_and_features = (compound_ids, smiles_list, fingerprints, activities)\n",
    "\n",
    "# Pickle the data to save time in the future\n",
    "with open('data.pickle', 'wb') as f:\n",
    "    pickle.dump(compound_ids_and_features, f, pickle.HIGHEST_PROTOCOL)"
   ]
  },
  {
   "cell_type": "code",
   "execution_count": 1,
   "metadata": {},
   "outputs": [
    {
     "name": "stdout",
     "output_type": "stream",
     "text": [
      "Successfully featurized 220364 compounds.\n",
      "Sample ID: 6603008\n",
      "Sample fingerprint vector: \n",
      "Was it bioactive? Assay returned: False\n"
     ]
    }
   ],
   "source": [
    "# Duplicate imports in case starting from this cell\n",
    "\n",
    "import pickle\n",
    "import numpy as np\n",
    "import pandas as pd\n",
    "from rdkit import Chem, DataStructs\n",
    "from rdkit.Chem import AllChem, rdMolDescriptors\n",
    "\n",
    "compound_ids = None\n",
    "fingerprints = None\n",
    "activities = None\n",
    "\n",
    "with open('data.pickle', 'rb') as f:\n",
    "    # Pickle the 'data' dictionary using the highest protocol available.\n",
    "    (compound_ids, smiles_list, fingerprints, activities) = pickle.load(f)\n",
    "\n",
    "# Print the number of compounds loaded\n",
    "print(\"Successfully featurized {0} compounds.\".format(len(compound_ids)))\n",
    "\n",
    "# Show an example of the raw data\n",
    "print(\"Sample ID: {0}\".format(compound_ids[0]))\n",
    "print(\"Sample fingerprint vector: {0}\".format(fingerprints[0]))\n",
    "print(\"Was it bioactive? Assay returned: {0}\".format(activities[0]))"
   ]
  },
  {
   "cell_type": "code",
   "execution_count": 3,
   "metadata": {},
   "outputs": [
    {
     "ename": "KeyboardInterrupt",
     "evalue": "",
     "output_type": "error",
     "traceback": [
      "\u001b[0;31m---------------------------------------------------------------------------\u001b[0m",
      "\u001b[0;31mKeyboardInterrupt\u001b[0m                         Traceback (most recent call last)",
      "\u001b[0;32m<ipython-input-3-e479206db597>\u001b[0m in \u001b[0;36m<module>\u001b[0;34m()\u001b[0m\n\u001b[1;32m     13\u001b[0m \u001b[0;34m\u001b[0m\u001b[0m\n\u001b[1;32m     14\u001b[0m \u001b[0;31m# Note: This may take 5-10 minutes to run\u001b[0m\u001b[0;34m\u001b[0m\u001b[0;34m\u001b[0m\u001b[0m\n\u001b[0;32m---> 15\u001b[0;31m \u001b[0mclassifier\u001b[0m\u001b[0;34m.\u001b[0m\u001b[0mfit\u001b[0m\u001b[0;34m(\u001b[0m\u001b[0mX_train\u001b[0m\u001b[0;34m,\u001b[0m\u001b[0my_train\u001b[0m\u001b[0;34m)\u001b[0m\u001b[0;34m\u001b[0m\u001b[0m\n\u001b[0m\u001b[1;32m     16\u001b[0m \u001b[0;34m\u001b[0m\u001b[0m\n\u001b[1;32m     17\u001b[0m \u001b[0;31m# We have the 'ground truth' of which of the held-out 33% of the data was really bioactive. But can we predict it?\u001b[0m\u001b[0;34m\u001b[0m\u001b[0;34m\u001b[0m\u001b[0m\n",
      "\u001b[0;32m/home/joe/anaconda3/envs/pubchem-sklearn/lib/python3.6/site-packages/sklearn/tree/tree.py\u001b[0m in \u001b[0;36mfit\u001b[0;34m(self, X, y, sample_weight, check_input, X_idx_sorted)\u001b[0m\n\u001b[1;32m    737\u001b[0m             \u001b[0msample_weight\u001b[0m\u001b[0;34m=\u001b[0m\u001b[0msample_weight\u001b[0m\u001b[0;34m,\u001b[0m\u001b[0;34m\u001b[0m\u001b[0m\n\u001b[1;32m    738\u001b[0m             \u001b[0mcheck_input\u001b[0m\u001b[0;34m=\u001b[0m\u001b[0mcheck_input\u001b[0m\u001b[0;34m,\u001b[0m\u001b[0;34m\u001b[0m\u001b[0m\n\u001b[0;32m--> 739\u001b[0;31m             X_idx_sorted=X_idx_sorted)\n\u001b[0m\u001b[1;32m    740\u001b[0m         \u001b[0;32mreturn\u001b[0m \u001b[0mself\u001b[0m\u001b[0;34m\u001b[0m\u001b[0m\n\u001b[1;32m    741\u001b[0m \u001b[0;34m\u001b[0m\u001b[0m\n",
      "\u001b[0;32m/home/joe/anaconda3/envs/pubchem-sklearn/lib/python3.6/site-packages/sklearn/tree/tree.py\u001b[0m in \u001b[0;36mfit\u001b[0;34m(self, X, y, sample_weight, check_input, X_idx_sorted)\u001b[0m\n\u001b[1;32m    348\u001b[0m                                            self.min_impurity_split)\n\u001b[1;32m    349\u001b[0m \u001b[0;34m\u001b[0m\u001b[0m\n\u001b[0;32m--> 350\u001b[0;31m         \u001b[0mbuilder\u001b[0m\u001b[0;34m.\u001b[0m\u001b[0mbuild\u001b[0m\u001b[0;34m(\u001b[0m\u001b[0mself\u001b[0m\u001b[0;34m.\u001b[0m\u001b[0mtree_\u001b[0m\u001b[0;34m,\u001b[0m \u001b[0mX\u001b[0m\u001b[0;34m,\u001b[0m \u001b[0my\u001b[0m\u001b[0;34m,\u001b[0m \u001b[0msample_weight\u001b[0m\u001b[0;34m,\u001b[0m \u001b[0mX_idx_sorted\u001b[0m\u001b[0;34m)\u001b[0m\u001b[0;34m\u001b[0m\u001b[0m\n\u001b[0m\u001b[1;32m    351\u001b[0m \u001b[0;34m\u001b[0m\u001b[0m\n\u001b[1;32m    352\u001b[0m         \u001b[0;32mif\u001b[0m \u001b[0mself\u001b[0m\u001b[0;34m.\u001b[0m\u001b[0mn_outputs_\u001b[0m \u001b[0;34m==\u001b[0m \u001b[0;36m1\u001b[0m\u001b[0;34m:\u001b[0m\u001b[0;34m\u001b[0m\u001b[0m\n",
      "\u001b[0;31mKeyboardInterrupt\u001b[0m: "
     ]
    }
   ],
   "source": [
    "# Here we see that a naive approach yields a poor F1-score\n",
    "\n",
    "from sklearn.tree import DecisionTreeClassifier\n",
    "from sklearn.ensemble import RandomForestClassifier\n",
    "from sklearn.model_selection import train_test_split\n",
    "from sklearn.metrics import classification_report\n",
    "\n",
    "\n",
    "# Create a train/test split\n",
    "X_train, X_test, y_train, y_test = train_test_split(fingerprints, activities, test_size=0.33, random_state=global_random_state)\n",
    "\n",
    "classifier = DecisionTreeClassifier(random_state=global_random_state)\n",
    "\n",
    "# Note: This may take 5-10 minutes to run\n",
    "classifier.fit(X_train,y_train)\n",
    "\n",
    "# We have the 'ground truth' of which of the held-out 33% of the data was really bioactive. But can we predict it?\n",
    "# If we could, we could predict which compounds might be bioactive without having to actually test them in a lab\n",
    "\n",
    "score = classifier.score(X_test,y_test)\n",
    "\n",
    "print(\"Classifier obtained a mean accuracy score of: {0}\".format(score))\n",
    "\n",
    "y_pred = classifier.predict(X_test)\n",
    "\n",
    "print(classification_report(y_test, y_pred))\n",
    "\n",
    "# Note: Unfortunately it's not directly comparable to ROC_AUC calculated in MoleculeNet at: https://arxiv.org/pdf/1703.00564.pdf \n",
    "# This is because MoleculeNet looks at a different metric (roc_auc) and also a different task (multiclass prediction across 128 bioassays simultaneously vs binary classification here)"
   ]
  },
  {
   "cell_type": "code",
   "execution_count": 4,
   "metadata": {},
   "outputs": [
    {
     "name": "stdout",
     "output_type": "stream",
     "text": [
      "[(False, 16111), (True, 16111)]\n"
     ]
    }
   ],
   "source": [
    "# Let's try undersampling the majority class to improve the f1-score for True predictions\n",
    "from imblearn.under_sampling import RandomUnderSampler\n",
    "from collections import Counter\n",
    "\n",
    "rus = RandomUnderSampler(random_state=42)\n",
    "X_resampled, y_resampled = rus.fit_sample(fingerprints, activities)\n",
    "print(sorted(Counter(y_resampled).items()))"
   ]
  },
  {
   "cell_type": "code",
   "execution_count": 5,
   "metadata": {},
   "outputs": [
    {
     "name": "stdout",
     "output_type": "stream",
     "text": [
      "Classifier obtained a mean accuracy score of: 0.6418092909535452\n",
      "             precision    recall  f1-score   support\n",
      "\n",
      "      False       0.64      0.63      0.64      5269\n",
      "       True       0.64      0.65      0.65      5365\n",
      "\n",
      "avg / total       0.64      0.64      0.64     10634\n",
      "\n"
     ]
    }
   ],
   "source": [
    "from sklearn.metrics import classification_report\n",
    "\n",
    "\n",
    "# Create a new train/test split based on resampled data\n",
    "X_train, X_test, y_train, y_test = train_test_split(X_resampled, y_resampled, test_size=0.33, random_state=global_random_state)\n",
    "\n",
    "classifier = DecisionTreeClassifier(random_state=42)\n",
    "\n",
    "# Note: This may take 5-10 minutes to run\n",
    "classifier.fit(X_train,y_train)\n",
    "\n",
    "# We have the 'ground truth' of which of the held-out 33% of the data was really bioactive. But can we predict it?\n",
    "# If we could, we could predict which compounds might be bioactive without having to actually test them in a lab\n",
    "\n",
    "score = classifier.score(X_test,y_test)\n",
    "\n",
    "print(\"Classifier obtained a mean accuracy score of: {0}\".format(score))\n",
    "\n",
    "y_pred = classifier.predict(X_test)\n",
    "\n",
    "print(classification_report(y_test, y_pred))\n"
   ]
  },
  {
   "cell_type": "code",
   "execution_count": 11,
   "metadata": {},
   "outputs": [
    {
     "name": "stdout",
     "output_type": "stream",
     "text": [
      "Classifier obtained a mean accuracy score of: 0.7187323678766222\n",
      "             precision    recall  f1-score   support\n",
      "\n",
      "      False       0.70      0.76      0.73      5269\n",
      "       True       0.74      0.68      0.71      5365\n",
      "\n",
      "avg / total       0.72      0.72      0.72     10634\n",
      "\n"
     ]
    }
   ],
   "source": [
    "# Let's try using a Random forest\n",
    "\n",
    "classifier = RandomForestClassifier(n_estimators=100, random_state=global_random_state, n_jobs=-1)\n",
    "\n",
    "# Note: This may take 5-10 minutes to run\n",
    "classifier.fit(X_train,y_train)\n",
    "\n",
    "# We have the 'ground truth' of which of the held-out 33% of the data was really bioactive. But can we predict it?\n",
    "# If we could, we could predict which compounds might be bioactive without having to actually test them in a lab\n",
    "\n",
    "score = classifier.score(X_test,y_test)\n",
    "\n",
    "print(\"Classifier obtained a mean accuracy score of: {0}\".format(score))\n",
    "\n",
    "y_pred = classifier.predict(X_test)\n",
    "\n",
    "print(classification_report(y_test, y_pred))\n"
   ]
  },
  {
   "cell_type": "code",
   "execution_count": 13,
   "metadata": {},
   "outputs": [
    {
     "name": "stdout",
     "output_type": "stream",
     "text": [
      "Classifier obtained a mean accuracy score of: 0.7008651495204062\n",
      "             precision    recall  f1-score   support\n",
      "\n",
      "      False       0.70      0.70      0.70      5269\n",
      "       True       0.70      0.71      0.70      5365\n",
      "\n",
      "avg / total       0.70      0.70      0.70     10634\n",
      "\n"
     ]
    }
   ],
   "source": [
    "# Does an MLP classifier help?\n",
    "# Answer: Nope, not really\n",
    "\n",
    "from sklearn.neural_network import MLPClassifier\n",
    "\n",
    "classifier = MLPClassifier(random_state=42)\n",
    "\n",
    "# Note: This may take 5-10 minutes to run\n",
    "classifier.fit(X_train,y_train)\n",
    "\n",
    "# We have the 'ground truth' of which of the held-out 33% of the data was really bioactive. But can we predict it?\n",
    "# If we could, we could predict which compounds might be bioactive without having to actually test them in a lab\n",
    "\n",
    "score = classifier.score(X_test,y_test)\n",
    "\n",
    "print(\"Classifier obtained a mean accuracy score of: {0}\".format(score))\n",
    "\n",
    "y_pred = classifier.predict(X_test)\n",
    "\n",
    "print(classification_report(y_test, y_pred))\n",
    "\n"
   ]
  },
  {
   "cell_type": "code",
   "execution_count": null,
   "metadata": {},
   "outputs": [
    {
     "name": "stderr",
     "output_type": "stream",
     "text": [
      "Using Theano backend.\n"
     ]
    }
   ],
   "source": [
    "# What about a deep neural network?\n",
    "# Sample code from: https://machinelearningmastery.com/tutorial-first-neural-network-python-keras/\n",
    "\n",
    "from keras.models import Sequential\n",
    "from keras.layers import Dense\n",
    "\n",
    "model = Sequential()\n",
    "model.add(Dense(12, input_dim=2048, activation='relu'))\n",
    "model.add(Dense(8, activation='relu'))\n",
    "model.add(Dense(1, activation='sigmoid'))\n",
    "model.compile(loss='binary_crossentropy', optimizer='adam', metrics=['accuracy'])\n",
    "\n",
    "y_train_binary = y_train.astype(int)\n",
    "y_test_binary = y_test.astype(int)\n",
    "\n",
    "model.fit(X_train, y_train_binary, epochs=150, batch_size=10)\n",
    "\n",
    "scores = model.evaluate(X_test, y_test_binary)\n",
    "print(\"\\n%s: %.2f%%\" % (model.metrics_names[1], scores[1]*100))"
   ]
  },
  {
   "cell_type": "code",
   "execution_count": 29,
   "metadata": {},
   "outputs": [
    {
     "name": "stdout",
     "output_type": "stream",
     "text": [
      "[[  2.03750189e-03]\n",
      " [  1.14329438e-17]\n",
      " [  9.91880357e-01]\n",
      " [  1.11250974e-01]\n",
      " [  1.94710310e-32]]\n",
      "[0 0 0 0 0]\n",
      "[False, False, False, False, False]\n",
      "             precision    recall  f1-score   support\n",
      "\n",
      "      False       0.50      1.00      0.66      5269\n",
      "       True       0.00      0.00      0.00      5365\n",
      "\n",
      "avg / total       0.25      0.50      0.33     10634\n",
      "\n"
     ]
    }
   ],
   "source": [
    "y_pred = model.predict(X_test)\n",
    "#y_pred_classified = np.argmax(y_pred, axis=1)\n",
    "\n",
    "print(y_pred[0:5])\n",
    "\n",
    "y_pred_classified = np.argmax(y_pred, axis=1)\n",
    "\n",
    "print(y_pred_classified[0:5])\n",
    "\n",
    "y_pred_binarized = [x > .5 for x in y_pred_classified]\n",
    "\n",
    "print(y_pred_binarized[0:5])\n",
    "\n",
    "print(classification_report(y_test, y_pred_binarized))\n"
   ]
  },
  {
   "cell_type": "code",
   "execution_count": null,
   "metadata": {
    "collapsed": true
   },
   "outputs": [],
   "source": []
  }
 ],
 "metadata": {
  "kernelspec": {
   "display_name": "Python [conda env:pubchem-sklearn]",
   "language": "python",
   "name": "conda-env-pubchem-sklearn-py"
  },
  "language_info": {
   "codemirror_mode": {
    "name": "ipython",
    "version": 3
   },
   "file_extension": ".py",
   "mimetype": "text/x-python",
   "name": "python",
   "nbconvert_exporter": "python",
   "pygments_lexer": "ipython3",
   "version": "3.6.1"
  }
 },
 "nbformat": 4,
 "nbformat_minor": 2
}
