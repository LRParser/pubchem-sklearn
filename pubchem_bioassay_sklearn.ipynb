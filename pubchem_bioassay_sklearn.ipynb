{
 "cells": [
  {
   "cell_type": "markdown",
   "metadata": {},
   "source": [
    "## Overview ##\n",
    "\n",
    "PubChem is a site run by the NIH which hosts raw data associated with chemical experiments; here we analyze the data hosted at PubChem for assay 1030, which looks for inhibitors of the protein encoding gene ALDH1A1. You can access the page for this assay [here](https://pubchem.ncbi.nlm.nih.gov/bioassay/1030)\n",
    "\n",
    "## Results ##\n",
    "\n",
    "We use the SMILES string, a common representation for a molecule amongst chemists, to begin the featurization process. Because the length of this string varies, it is normalized in the form of a Morgan Fingerprint; these are then used to train a RandomForestClassifier using sklearn. The performance on a held-out test set was approx 93% \n"
   ]
  },
  {
   "cell_type": "code",
   "execution_count": null,
   "metadata": {
    "collapsed": true
   },
   "outputs": [],
   "source": [
    "import pickle\n",
    "import numpy as np\n",
    "import pandas as pd\n",
    "from rdkit import Chem, DataStructs\n",
    "from rdkit.Chem import AllChem, rdMolDescriptors\n",
    "from sklearn.ensemble import RandomForestClassifier\n",
    "\n",
    "import warnings\n",
    "warnings.filterwarnings('ignore')\n"
   ]
  },
  {
   "cell_type": "code",
   "execution_count": null,
   "metadata": {},
   "outputs": [
    {
     "name": "stdout",
     "output_type": "stream",
     "text": [
      "Processed index: 0\n",
      "Processed index: 10000\n",
      "Processed index: 20000\n",
      "Processed index: 30000\n",
      "Processed index: 40000\n",
      "Processed index: 50000\n",
      "Processed index: 60000\n",
      "Processed index: 70000\n",
      "Processed index: 80000\n",
      "Processed index: 90000\n",
      "Processed index: 100000\n",
      "Processed index: 110000\n",
      "Processed index: 120000\n",
      "Processed index: 130000\n",
      "Processed index: 140000\n",
      "Processed index: 150000\n",
      "Processed index: 160000\n",
      "Processed index: 170000\n",
      "Processed index: 180000\n",
      "Processed index: 190000\n",
      "Processed index: 200000\n",
      "Processed index: 210000\n",
      "Processed index: 220000\n",
      "Processed all, pickling\n"
     ]
    }
   ],
   "source": [
    "# Load assay info. Note: This CSV was obtained from PubChem bioassay aka PCBA, via searching for AID 1030 \n",
    "# and downloading the datatable\n",
    "\n",
    "ba_df = pd.read_csv(\"AID_1030_datatable_all.csv\")\n",
    "\n",
    "# Load compound info\n",
    "cs_df = pd.read_csv(\"AID_1030_compound_smiles.csv\",sep='\\t',header=0)\n",
    "\n",
    "# Merge the two\n",
    "full_df = ba_df.merge(cs_df,on='PUBCHEM_CID')\n",
    "\n",
    "# Cleanup the compound ID column\n",
    "full_df[\"PUBCHEM_CID\"] = full_df[\"PUBCHEM_CID\"].astype(int)\n",
    "\n",
    "compound_ids = list()\n",
    "fingerprints = list()\n",
    "activities = list()\n",
    "\n",
    "for index, row in full_df.iterrows() :\n",
    "    cid = row[\"PUBCHEM_CID\"]\n",
    "    smiles = row[\"Smiles\"]\n",
    "    mol = Chem.MolFromSmiles(smiles)\n",
    "    is_active = row[\"PUBCHEM_ACTIVITY_OUTCOME\"] == \"Active\"\n",
    "    if mol is not None: \n",
    "        fingerprint = rdMolDescriptors.GetMorganFingerprintAsBitVect(mol,2,nBits=2048,useChirality=False,\n",
    "                                                                     useBondTypes=False,useFeatures=False)\n",
    "        \n",
    "        # From RDKit documentation\n",
    "        arr = np.zeros((1,))\n",
    "        DataStructs.ConvertToNumpyArray(fingerprint, arr)\n",
    "        fingerprint = arr\n",
    "        \n",
    "        compound_ids.append(cid)\n",
    "        fingerprints.append(fingerprint)\n",
    "        activities.append(is_active)\n",
    "    \n",
    "    if index % 10000 == 0:\n",
    "        print(\"Processed index: {0}\".format(index))\n",
    "\n",
    "print(\"Processed all, pickling\")\n",
    "\n",
    "compound_ids_and_features = (compound_ids, fingerprints, activities)\n",
    "\n",
    "# Pickle the data to save time in the future\n",
    "with open('data.pickle', 'wb') as f:\n",
    "    pickle.dump(compound_ids_and_features, f, pickle.HIGHEST_PROTOCOL)"
   ]
  },
  {
   "cell_type": "code",
   "execution_count": 1,
   "metadata": {},
   "outputs": [
    {
     "name": "stdout",
     "output_type": "stream",
     "text": [
      "Successfully featurized 220364 compounds.\n",
      "Sample ID: 6603008\n",
      "Sample fingerprint vector: \n",
      "Was it bioactive? Assay returned: False\n"
     ]
    }
   ],
   "source": [
    "# Duplicate imports in case starting from this cell\n",
    "\n",
    "import pickle\n",
    "import numpy as np\n",
    "import pandas as pd\n",
    "from rdkit import Chem, DataStructs\n",
    "from rdkit.Chem import AllChem, rdMolDescriptors\n",
    "\n",
    "compound_ids = None\n",
    "fingerprints = None\n",
    "activities = None\n",
    "\n",
    "with open('data.pickle', 'rb') as f:\n",
    "    # Pickle the 'data' dictionary using the highest protocol available.\n",
    "    (compound_ids, fingerprints, activities) = pickle.load(f)\n",
    "\n",
    "# Print the number of compounds loaded\n",
    "print(\"Successfully featurized {0} compounds.\".format(len(compound_ids)))\n",
    "\n",
    "# Show an example of the raw data\n",
    "print(\"Sample ID: {0}\".format(compound_ids[0]))\n",
    "print(\"Sample fingerprint vector: \".format(fingerprints[0]))\n",
    "print(\"Was it bioactive? Assay returned: {0}\".format(activities[0]))"
   ]
  },
  {
   "cell_type": "code",
   "execution_count": 2,
   "metadata": {},
   "outputs": [
    {
     "name": "stdout",
     "output_type": "stream",
     "text": [
      "Classifier obtained a mean accuracy score of: 0.9003726571416785\n",
      "Precision: [ 0.94324277  0.30084484], Recall: [ 0.94966547  0.2748494 ], F-Score: [ 0.94644322  0.28726021], Support: [67409  5312]\n"
     ]
    }
   ],
   "source": [
    "from sklearn.ensemble import RandomForestClassifier\n",
    "from sklearn.model_selection import train_test_split\n",
    "from sklearn.tree import DecisionTreeClassifier\n",
    "from sklearn.metrics import precision_recall_fscore_support, classification_report\n",
    "\n",
    "\n",
    "# Create a train/test split\n",
    "X_train, X_test, y_train, y_test = train_test_split(fingerprints, activities, test_size=0.33, random_state=42)\n",
    "\n",
    "#classifier = RandomForestClassifier(n_estimators=100, random_state=42, n_jobs=-1)\n",
    "\n",
    "classifier = DecisionTreeClassifier(random_state=42)\n",
    "\n",
    "# Note: This may take 5-10 minutes to run\n",
    "classifier.fit(X_train,y_train)\n",
    "\n",
    "# We have the 'ground truth' of which of the held-out 33% of the data was really bioactive. But can we predict it?\n",
    "# If we could, we could predict which compounds might be bioactive without having to actually test them in a lab\n",
    "\n",
    "score = classifier.score(X_test,y_test)\n",
    "\n",
    "print(\"Classifier obtained a mean accuracy score of: {0}\".format(score))\n",
    "\n",
    "y_pred = classifier.predict(X_test)\n",
    "\n",
    "# Analysis: it looks like we can predict reasonably well with this featurization.\n",
    "# TBD: Is there a better scoring function we can use, or is mean accuracy sufficient, as it's a binary classifier?\n",
    "\n",
    "# Note: Unfortunately it's not directly comparable to ROC_AUC calculated in MoleculeNet at: https://arxiv.org/pdf/1703.00564.pdf \n",
    "# This is because MoleculeNet looks at a different metric (roc_auc) and also a different task (multiclass prediction across 128 bioassays simultaneously vs binary classification here)"
   ]
  },
  {
   "cell_type": "code",
   "execution_count": 4,
   "metadata": {},
   "outputs": [
    {
     "name": "stdout",
     "output_type": "stream",
     "text": [
      "             precision    recall  f1-score   support\n",
      "\n",
      "      False       0.94      0.95      0.95     67409\n",
      "       True       0.30      0.27      0.29      5312\n",
      "\n",
      "avg / total       0.90      0.90      0.90     72721\n",
      "\n"
     ]
    }
   ],
   "source": [
    "from sklearn.metrics import precision_recall_fscore_support, classification_report\n",
    "\n",
    "print(classification_report(y_test, y_pred))\n"
   ]
  },
  {
   "cell_type": "code",
   "execution_count": 7,
   "metadata": {},
   "outputs": [
    {
     "name": "stdout",
     "output_type": "stream",
     "text": [
      "[(False, 16111), (True, 16111)]\n"
     ]
    }
   ],
   "source": [
    "# Let's try undersampling the majority class to improve the f1-score for True predictions\n",
    "from imblearn.under_sampling import RandomUnderSampler\n",
    "from collections import Counter\n",
    "\n",
    "rus = RandomUnderSampler(random_state=42)\n",
    "X_resampled, y_resampled = rus.fit_sample(fingerprints, activities)\n",
    "print(sorted(Counter(y_resampled).items()))"
   ]
  },
  {
   "cell_type": "code",
   "execution_count": 9,
   "metadata": {},
   "outputs": [
    {
     "name": "stdout",
     "output_type": "stream",
     "text": [
      "Classifier obtained a mean accuracy score of: 0.6444423547113034\n",
      "Precision: [ 0.6437959   0.64505495], Recall: [ 0.63218827  0.65647717], F-Score: [ 0.63793929  0.65071594], Support: [5269 5365]\n"
     ]
    }
   ],
   "source": [
    "from sklearn.metrics import classification_report\n",
    "\n",
    "\n",
    "# Create a train/test split\n",
    "X_train, X_test, y_train, y_test = train_test_split(X_resampled, y_resampled, test_size=0.33, random_state=42)\n",
    "\n",
    "classifier = RandomForestClassifier(n_estimators=100, random_state=42, n_jobs=-1)\n",
    "\n",
    "classifier = DecisionTreeClassifier(random_state=42)\n",
    "\n",
    "# Note: This may take 5-10 minutes to run\n",
    "classifier.fit(X_train,y_train)\n",
    "\n",
    "# We have the 'ground truth' of which of the held-out 33% of the data was really bioactive. But can we predict it?\n",
    "# If we could, we could predict which compounds might be bioactive without having to actually test them in a lab\n",
    "\n",
    "score = classifier.score(X_test,y_test)\n",
    "\n",
    "print(\"Classifier obtained a mean accuracy score of: {0}\".format(score))\n",
    "\n",
    "y_pred = classifier.predict(X_test)\n",
    "\n",
    "print(classification_report(y_test, y_pred))\n"
   ]
  },
  {
   "cell_type": "code",
   "execution_count": 11,
   "metadata": {},
   "outputs": [
    {
     "name": "stdout",
     "output_type": "stream",
     "text": [
      "Classifier obtained a mean accuracy score of: 0.7187323678766222\n",
      "             precision    recall  f1-score   support\n",
      "\n",
      "      False       0.70      0.76      0.73      5269\n",
      "       True       0.74      0.68      0.71      5365\n",
      "\n",
      "avg / total       0.72      0.72      0.72     10634\n",
      "\n"
     ]
    }
   ],
   "source": [
    "# Let's try using a Random forest\n",
    "\n",
    "classifier = RandomForestClassifier(n_estimators=100, random_state=42, n_jobs=-1)\n",
    "\n",
    "# Note: This may take 5-10 minutes to run\n",
    "classifier.fit(X_train,y_train)\n",
    "\n",
    "# We have the 'ground truth' of which of the held-out 33% of the data was really bioactive. But can we predict it?\n",
    "# If we could, we could predict which compounds might be bioactive without having to actually test them in a lab\n",
    "\n",
    "score = classifier.score(X_test,y_test)\n",
    "\n",
    "print(\"Classifier obtained a mean accuracy score of: {0}\".format(score))\n",
    "\n",
    "y_pred = classifier.predict(X_test)\n",
    "\n",
    "print(classification_report(y_test, y_pred))\n"
   ]
  },
  {
   "cell_type": "code",
   "execution_count": null,
   "metadata": {
    "collapsed": true
   },
   "outputs": [],
   "source": [
    "\n"
   ]
  }
 ],
 "metadata": {
  "kernelspec": {
   "display_name": "Python [conda env:pubchem-sklearn]",
   "language": "python",
   "name": "conda-env-pubchem-sklearn-py"
  },
  "language_info": {
   "codemirror_mode": {
    "name": "ipython",
    "version": 3
   },
   "file_extension": ".py",
   "mimetype": "text/x-python",
   "name": "python",
   "nbconvert_exporter": "python",
   "pygments_lexer": "ipython3",
   "version": "3.6.1"
  }
 },
 "nbformat": 4,
 "nbformat_minor": 2
}
