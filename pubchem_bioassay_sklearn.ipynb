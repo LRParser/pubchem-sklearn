{
 "cells": [
  {
   "cell_type": "markdown",
   "metadata": {},
   "source": [
    "## Overview ##\n",
    "\n",
    "PubChem is a site run by the NIH which hosts raw data associated with chemical experiments; here we analyze the data hosted at PubChem for assay 1030, which looks for inhibitors of the protein encoding gene ALDH1A1. You can access the page for this assay [here](https://pubchem.ncbi.nlm.nih.gov/bioassay/1030)\n",
    "\n",
    "## Results ##\n",
    "\n",
    "We use the SMILES string, a common representation for a molecule amongst chemists, to begin the featurization process. Because the length of this string varies, it is normalized in the form of a Morgan Fingerprint; these are then used to train various binary classifiers"
   ]
  },
  {
   "cell_type": "code",
   "execution_count": 1,
   "metadata": {
    "collapsed": true
   },
   "outputs": [],
   "source": [
    "import pickle\n",
    "import numpy as np\n",
    "import pandas as pd\n",
    "from rdkit import Chem, DataStructs\n",
    "from rdkit.Chem import AllChem, rdMolDescriptors\n",
    "from sklearn.ensemble import RandomForestClassifier\n",
    "\n",
    "import warnings\n",
    "warnings.filterwarnings('ignore')\n",
    "\n",
    "global_random_state = 42\n",
    "\n",
    "np.random.seed(global_random_state)"
   ]
  },
  {
   "cell_type": "code",
   "execution_count": 2,
   "metadata": {},
   "outputs": [
    {
     "name": "stdout",
     "output_type": "stream",
     "text": [
      "Processed index: 0\n",
      "Processed index: 10000\n",
      "Processed index: 20000\n",
      "Processed index: 30000\n",
      "Processed index: 40000\n",
      "Processed index: 50000\n",
      "Processed index: 60000\n",
      "Processed index: 70000\n",
      "Processed index: 80000\n",
      "Processed index: 90000\n",
      "Processed index: 100000\n",
      "Processed index: 110000\n",
      "Processed index: 120000\n",
      "Processed index: 130000\n",
      "Processed index: 140000\n",
      "Processed index: 150000\n",
      "Processed index: 160000\n",
      "Processed index: 170000\n",
      "Processed index: 180000\n",
      "Processed index: 190000\n",
      "Processed index: 200000\n",
      "Processed index: 210000\n",
      "Processed index: 220000\n",
      "Processed all, pickling\n"
     ]
    }
   ],
   "source": [
    "# Load assay info. Note: This CSV was obtained from PubChem bioassay aka PCBA, via searching for AID 1030 \n",
    "# and downloading the datatable\n",
    "\n",
    "ba_df = pd.read_csv(\"AID_1030_datatable_all.csv\")\n",
    "\n",
    "# Load compound info\n",
    "cs_df = pd.read_csv(\"AID_1030_compound_smiles.csv\",sep='\\t',header=0)\n",
    "\n",
    "# Merge the two\n",
    "full_df = ba_df.merge(cs_df,on='PUBCHEM_CID')\n",
    "\n",
    "# Cleanup the compound ID column\n",
    "full_df[\"PUBCHEM_CID\"] = full_df[\"PUBCHEM_CID\"].astype(int)\n",
    "\n",
    "compound_ids = list()\n",
    "smiles_list = list()\n",
    "fingerprints = list()\n",
    "activities = list()\n",
    "\n",
    "for index, row in full_df.iterrows() :\n",
    "    cid = row[\"PUBCHEM_CID\"]\n",
    "    smiles_string = row[\"Smiles\"]\n",
    "    mol = Chem.MolFromSmiles(smiles_string)\n",
    "    is_active = row[\"PUBCHEM_ACTIVITY_OUTCOME\"] == \"Active\"\n",
    "    if mol is not None: \n",
    "        fingerprint = rdMolDescriptors.GetMorganFingerprintAsBitVect(mol,2,nBits=2048,useChirality=False,\n",
    "                                                                     useBondTypes=False,useFeatures=False)\n",
    "        \n",
    "        # From RDKit documentation\n",
    "        arr = np.zeros((1,))\n",
    "        DataStructs.ConvertToNumpyArray(fingerprint, arr)\n",
    "        fingerprint = arr\n",
    "        \n",
    "        compound_ids.append(cid)\n",
    "        smiles_list.append(smiles_string)\n",
    "        fingerprints.append(fingerprint)\n",
    "        activities.append(is_active)\n",
    "    \n",
    "    if index % 10000 == 0:\n",
    "        print(\"Processed index: {0}\".format(index))\n",
    "\n",
    "print(\"Processed all, pickling\")\n",
    "\n",
    "compound_ids_and_features = (compound_ids, smiles_list, fingerprints, activities)\n",
    "\n",
    "# Pickle the data to save time in the future\n",
    "with open('data.pickle', 'wb') as f:\n",
    "    pickle.dump(compound_ids_and_features, f, pickle.HIGHEST_PROTOCOL)"
   ]
  },
  {
   "cell_type": "code",
   "execution_count": null,
   "metadata": {
    "collapsed": true
   },
   "outputs": [],
   "source": [
    "# Here we see that a naive approach (without balancing data) yields a poor F1-score\n",
    "\n",
    "from sklearn.tree import DecisionTreeClassifier\n",
    "from sklearn.ensemble import RandomForestClassifier\n",
    "from sklearn.model_selection import train_test_split\n",
    "from sklearn.metrics import classification_report\n",
    "\n",
    "\n",
    "# Create a train/test split\n",
    "X_train, X_test, y_train, y_test = train_test_split(fingerprints, activities, test_size=0.33, random_state=global_random_state)\n",
    "\n",
    "classifier = DecisionTreeClassifier(random_state=global_random_state)\n",
    "\n",
    "# Note: This may take 5-10 minutes to run\n",
    "classifier.fit(X_train,y_train)\n",
    "\n",
    "# We have the 'ground truth' of which of the held-out 33% of the data was really bioactive. But can we predict it?\n",
    "# If we could, we could predict which compounds might be bioactive without having to actually test them in a lab\n",
    "\n",
    "score = classifier.score(X_test,y_test)\n",
    "\n",
    "print(\"Classifier obtained a mean accuracy score of: {0}\".format(score))\n",
    "\n",
    "y_pred = classifier.predict(X_test)\n",
    "\n",
    "print(classification_report(y_test, y_pred))\n",
    "\n",
    "# Note: Unfortunately it's not directly comparable to ROC_AUC calculated in MoleculeNet at: https://arxiv.org/pdf/1703.00564.pdf \n",
    "# This is because MoleculeNet looks at a different metric (roc_auc) and also a different task (multiclass prediction across 128 bioassays simultaneously vs binary classification here)"
   ]
  },
  {
   "cell_type": "code",
   "execution_count": 3,
   "metadata": {},
   "outputs": [
    {
     "name": "stdout",
     "output_type": "stream",
     "text": [
      "Successfully featurized 220364 compounds.\n",
      "Sample ID: 6603008\n",
      "Sample fingerprint vector: [ 0.  0.  0. ...,  0.  0.  0.]\n",
      "Was it bioactive? Assay returned: False\n",
      "[(False, 16111), (True, 16111)]\n"
     ]
    }
   ],
   "source": [
    "# Duplicate imports in case starting from this cell\n",
    "\n",
    "import pickle\n",
    "import numpy as np\n",
    "import pandas as pd\n",
    "from rdkit import Chem, DataStructs\n",
    "from rdkit.Chem import AllChem, rdMolDescriptors\n",
    "from sklearn.metrics import classification_report\n",
    "from sklearn.model_selection import train_test_split\n",
    "\n",
    "compound_ids = None\n",
    "fingerprints = None\n",
    "activities = None\n",
    "\n",
    "global_random_state = 42\n",
    "\n",
    "with open('data.pickle', 'rb') as f:\n",
    "    # Pickle the 'data' dictionary using the highest protocol available.\n",
    "    (compound_ids, smiles_list, fingerprints, activities) = pickle.load(f)\n",
    "\n",
    "# Print the number of compounds loaded\n",
    "print(\"Successfully featurized {0} compounds.\".format(len(compound_ids)))\n",
    "\n",
    "# Show an example of the raw data\n",
    "print(\"Sample ID: {0}\".format(compound_ids[0]))\n",
    "print(\"Sample fingerprint vector: {0}\".format(fingerprints[0]))\n",
    "print(\"Was it bioactive? Assay returned: {0}\".format(activities[0]))\n",
    "\n",
    "# Correctly balance the classes\n",
    "from imblearn.under_sampling import RandomUnderSampler\n",
    "from collections import Counter\n",
    "\n",
    "rus = RandomUnderSampler(random_state=global_random_state)\n",
    "X_resampled, y_resampled = rus.fit_sample(fingerprints, activities)\n",
    "\n",
    "print(sorted(Counter(y_resampled).items()))\n",
    "\n",
    "X_train, X_test, y_train, y_test = train_test_split(X_resampled, y_resampled, test_size=0.33, random_state=global_random_state)"
   ]
  },
  {
   "cell_type": "code",
   "execution_count": 6,
   "metadata": {},
   "outputs": [
    {
     "name": "stdout",
     "output_type": "stream",
     "text": [
      "Classifier obtained a mean accuracy score of: 0.6418092909535452\n",
      "             precision    recall  f1-score   support\n",
      "\n",
      "      False       0.64      0.63      0.64      5269\n",
      "       True       0.64      0.65      0.65      5365\n",
      "\n",
      "avg / total       0.64      0.64      0.64     10634\n",
      "\n"
     ]
    }
   ],
   "source": [
    "# Create a new train/test split based on resampled data\n",
    "\n",
    "classifier = DecisionTreeClassifier(random_state=42)\n",
    "\n",
    "# Note: This may take 5-10 minutes to run\n",
    "classifier.fit(X_train,y_train)\n",
    "\n",
    "# We have the 'ground truth' of which of the held-out 33% of the data was really bioactive. But can we predict it?\n",
    "# If we could, we could predict which compounds might be bioactive without having to actually test them in a lab\n",
    "\n",
    "score = classifier.score(X_test,y_test)\n",
    "\n",
    "print(\"Classifier obtained a mean accuracy score of: {0}\".format(score))\n",
    "\n",
    "y_pred = classifier.predict(X_test)\n",
    "\n",
    "print(classification_report(y_test, y_pred))\n"
   ]
  },
  {
   "cell_type": "code",
   "execution_count": 7,
   "metadata": {},
   "outputs": [
    {
     "name": "stdout",
     "output_type": "stream",
     "text": [
      "Classifier obtained a mean accuracy score of: 0.7219296595824714\n",
      "             precision    recall  f1-score   support\n",
      "\n",
      "      False       0.71      0.75      0.73      5269\n",
      "       True       0.74      0.69      0.72      5365\n",
      "\n",
      "avg / total       0.72      0.72      0.72     10634\n",
      "\n"
     ]
    }
   ],
   "source": [
    "# Let's try using a Random forest\n",
    "\n",
    "classifier = RandomForestClassifier(n_estimators=100, random_state=global_random_state, n_jobs=-1)\n",
    "\n",
    "# Note: This may take 5-10 minutes to run\n",
    "classifier.fit(X_train,y_train)\n",
    "\n",
    "# We have the 'ground truth' of which of the held-out 33% of the data was really bioactive. But can we predict it?\n",
    "# If we could, we could predict which compounds might be bioactive without having to actually test them in a lab\n",
    "\n",
    "score = classifier.score(X_test,y_test)\n",
    "\n",
    "print(\"Classifier obtained a mean accuracy score of: {0}\".format(score))\n",
    "\n",
    "y_pred = classifier.predict(X_test)\n",
    "\n",
    "print(classification_report(y_test, y_pred))\n"
   ]
  },
  {
   "cell_type": "code",
   "execution_count": 8,
   "metadata": {},
   "outputs": [
    {
     "name": "stdout",
     "output_type": "stream",
     "text": [
      "Classifier obtained a mean accuracy score of: 0.6964453639270265\n",
      "             precision    recall  f1-score   support\n",
      "\n",
      "      False       0.67      0.75      0.71      5269\n",
      "       True       0.72      0.65      0.68      5365\n",
      "\n",
      "avg / total       0.70      0.70      0.70     10634\n",
      "\n"
     ]
    }
   ],
   "source": [
    "# Does an MLP classifier help?\n",
    "# Answer: Nope, not really\n",
    "\n",
    "from sklearn.neural_network import MLPClassifier\n",
    "\n",
    "classifier = MLPClassifier(random_state=global_random_state)\n",
    "\n",
    "# Note: This may take 5-10 minutes to run\n",
    "classifier.fit(X_train,y_train)\n",
    "\n",
    "# We have the 'ground truth' of which of the held-out 33% of the data was really bioactive. But can we predict it?\n",
    "# If we could, we could predict which compounds might be bioactive without having to actually test them in a lab\n",
    "\n",
    "score = classifier.score(X_test,y_test)\n",
    "\n",
    "print(\"Classifier obtained a mean accuracy score of: {0}\".format(score))\n",
    "\n",
    "y_pred = classifier.predict(X_test)\n",
    "\n",
    "print(classification_report(y_test, y_pred))\n",
    "\n"
   ]
  },
  {
   "cell_type": "code",
   "execution_count": 4,
   "metadata": {},
   "outputs": [
    {
     "name": "stderr",
     "output_type": "stream",
     "text": [
      "Using TensorFlow backend.\n"
     ]
    },
    {
     "name": "stdout",
     "output_type": "stream",
     "text": [
      "tensorflow\n"
     ]
    }
   ],
   "source": [
    "import keras\n",
    "print(keras.backend.backend())"
   ]
  },
  {
   "cell_type": "code",
   "execution_count": 6,
   "metadata": {},
   "outputs": [
    {
     "name": "stdout",
     "output_type": "stream",
     "text": [
      "[1 1 1 0 0]\n",
      "Epoch 1/20\n",
      "21588/21588 [==============================] - 40s - loss: 0.6304 - binary_accuracy: 0.6431    \n",
      "Epoch 2/20\n",
      "21588/21588 [==============================] - 40s - loss: 0.5614 - binary_accuracy: 0.7099    \n",
      "Epoch 3/20\n",
      "21588/21588 [==============================] - 40s - loss: 0.5109 - binary_accuracy: 0.7488    \n",
      "Epoch 4/20\n",
      "21588/21588 [==============================] - 40s - loss: 0.4687 - binary_accuracy: 0.7775    \n",
      "Epoch 5/20\n",
      "21588/21588 [==============================] - 40s - loss: 0.4273 - binary_accuracy: 0.8058    \n",
      "Epoch 6/20\n",
      "21588/21588 [==============================] - 40s - loss: 0.3901 - binary_accuracy: 0.8261    \n",
      "Epoch 7/20\n",
      "21588/21588 [==============================] - 40s - loss: 0.3583 - binary_accuracy: 0.8442    \n",
      "Epoch 8/20\n",
      "21588/21588 [==============================] - 40s - loss: 0.3295 - binary_accuracy: 0.8600    \n",
      "Epoch 9/20\n",
      "21588/21588 [==============================] - 40s - loss: 0.3069 - binary_accuracy: 0.8708    \n",
      "Epoch 10/20\n",
      "21588/21588 [==============================] - 40s - loss: 0.2851 - binary_accuracy: 0.8821    \n",
      "Epoch 11/20\n",
      "21588/21588 [==============================] - 40s - loss: 0.2633 - binary_accuracy: 0.8901    \n",
      "Epoch 12/20\n",
      "21588/21588 [==============================] - 40s - loss: 0.2486 - binary_accuracy: 0.8999    \n",
      "Epoch 13/20\n",
      "21588/21588 [==============================] - 40s - loss: 0.2294 - binary_accuracy: 0.9073    \n",
      "Epoch 14/20\n",
      "21588/21588 [==============================] - 40s - loss: 0.2136 - binary_accuracy: 0.9132    \n",
      "Epoch 15/20\n",
      "21588/21588 [==============================] - 40s - loss: 0.2021 - binary_accuracy: 0.9204    \n",
      "Epoch 16/20\n",
      "21588/21588 [==============================] - 40s - loss: 0.1918 - binary_accuracy: 0.9230    \n",
      "Epoch 17/20\n",
      "21588/21588 [==============================] - 40s - loss: 0.1820 - binary_accuracy: 0.9266    \n",
      "Epoch 18/20\n",
      "21588/21588 [==============================] - 40s - loss: 0.1733 - binary_accuracy: 0.9293    \n",
      "Epoch 19/20\n",
      "21588/21588 [==============================] - 41s - loss: 0.1669 - binary_accuracy: 0.9320    \n",
      "Epoch 20/20\n",
      "21588/21588 [==============================] - 41s - loss: 0.1572 - binary_accuracy: 0.9367    \n",
      "10144/10634 [===========================>..] - ETA: 0s\n",
      " Loss on test set is: %.2f[1.8505845538247498, 0.64848598838412985]\n"
     ]
    }
   ],
   "source": [
    "# What about a deep neural network?\n",
    "# Sample code from: https://machinelearningmastery.com/tutorial-first-neural-network-python-keras/\n",
    "\n",
    "from keras.models import Sequential\n",
    "from keras.layers import Dense\n",
    "from keras import metrics\n",
    "\n",
    "model = Sequential()\n",
    "model.add(Dense(12, input_dim=2048, activation='relu'))\n",
    "model.add(Dense(8, activation='relu'))\n",
    "model.add(Dense(1, activation='sigmoid'))\n",
    "model.compile(loss='binary_crossentropy', optimizer='adam', metrics=[metrics.binary_accuracy])\n",
    "\n",
    "y_train_binary = y_train.astype(int)\n",
    "\n",
    "print(y_train_binary[0:5])\n",
    "\n",
    "y_test_binary = y_test.astype(int)\n",
    "\n",
    "model.fit(X_train, y_train_binary, epochs=20, batch_size=1)\n",
    "\n",
    "score = model.evaluate(X_test, y_test_binary)\n",
    "\n",
    "print(\"\\n Loss on test set is: %.2f{0}\".format(score))"
   ]
  },
  {
   "cell_type": "code",
   "execution_count": 7,
   "metadata": {},
   "outputs": [
    {
     "name": "stdout",
     "output_type": "stream",
     "text": [
      "[ True False False  True False]\n",
      "[[ 0.97291088]\n",
      " [ 0.25812885]\n",
      " [ 0.23556663]\n",
      " [ 0.78397679]\n",
      " [ 0.57503569]]\n",
      "[True, False, False, True, True]\n",
      "             precision    recall  f1-score   support\n",
      "\n",
      "      False       0.64      0.66      0.65      5269\n",
      "       True       0.65      0.64      0.65      5365\n",
      "\n",
      "avg / total       0.65      0.65      0.65     10634\n",
      "\n"
     ]
    }
   ],
   "source": [
    "y_pred = model.predict_on_batch(X_test)\n",
    "\n",
    "print(y_test[0:5])\n",
    "print(y_pred[0:5])\n",
    "\n",
    "y_pred_binarized = list()\n",
    "\n",
    "for pred in y_pred:\n",
    "    if pred >= .5 :\n",
    "        y_pred_binarized.append(True)\n",
    "    else :\n",
    "        y_pred_binarized.append(False)\n",
    "\n",
    "print(y_pred_binarized[0:5])\n",
    "print(classification_report(y_test, y_pred_binarized))\n"
   ]
  },
  {
   "cell_type": "code",
   "execution_count": 8,
   "metadata": {},
   "outputs": [
    {
     "name": "stdout",
     "output_type": "stream",
     "text": [
      "[1 1 1 0 0]\n",
      "Epoch 1/20\n",
      "21588/21588 [==============================] - 154s - loss: 0.6503 - binary_accuracy: 0.6295   \n",
      "Epoch 2/20\n",
      "21588/21588 [==============================] - 154s - loss: 0.5529 - binary_accuracy: 0.7275   \n",
      "Epoch 3/20\n",
      "21588/21588 [==============================] - 154s - loss: 0.4236 - binary_accuracy: 0.8148   \n",
      "Epoch 4/20\n",
      "21588/21588 [==============================] - 154s - loss: 0.2686 - binary_accuracy: 0.8974   \n",
      "Epoch 5/20\n",
      "21588/21588 [==============================] - 154s - loss: 0.1603 - binary_accuracy: 0.9467   \n",
      "Epoch 6/20\n",
      "21588/21588 [==============================] - 154s - loss: 0.1031 - binary_accuracy: 0.9710   \n",
      "Epoch 7/20\n",
      "21588/21588 [==============================] - 155s - loss: 0.0714 - binary_accuracy: 0.9810   \n",
      "Epoch 8/20\n",
      "21588/21588 [==============================] - 155s - loss: 0.0557 - binary_accuracy: 0.9865   \n",
      "Epoch 9/20\n",
      "21588/21588 [==============================] - 155s - loss: 0.0487 - binary_accuracy: 0.9892   \n",
      "Epoch 10/20\n",
      "21588/21588 [==============================] - 155s - loss: 0.0440 - binary_accuracy: 0.9918   \n",
      "Epoch 11/20\n",
      "21588/21588 [==============================] - 155s - loss: 0.0367 - binary_accuracy: 0.9923   \n",
      "Epoch 12/20\n",
      "21588/21588 [==============================] - 155s - loss: 0.0387 - binary_accuracy: 0.9940   \n",
      "Epoch 13/20\n",
      "21588/21588 [==============================] - 155s - loss: 0.0488 - binary_accuracy: 0.9914   \n",
      "Epoch 14/20\n",
      "21588/21588 [==============================] - 155s - loss: 0.0369 - binary_accuracy: 0.9940   \n",
      "Epoch 15/20\n",
      "21588/21588 [==============================] - 155s - loss: 0.0372 - binary_accuracy: 0.9959   \n",
      "Epoch 16/20\n",
      "21588/21588 [==============================] - 155s - loss: 0.0457 - binary_accuracy: 0.9943   \n",
      "Epoch 17/20\n",
      "21588/21588 [==============================] - 155s - loss: 0.0675 - binary_accuracy: 0.9927   \n",
      "Epoch 18/20\n",
      "21588/21588 [==============================] - 154s - loss: 0.0503 - binary_accuracy: 0.9937   \n",
      "Epoch 19/20\n",
      "21588/21588 [==============================] - 155s - loss: 0.0536 - binary_accuracy: 0.9936   \n",
      "Epoch 20/20\n",
      "21588/21588 [==============================] - 155s - loss: 0.0460 - binary_accuracy: 0.9943   \n",
      " 9952/10634 [===========================>..] - ETA: 0s\n",
      " Loss on test set is: %.2f[3.0211564344370614, 0.69343614821508459]\n"
     ]
    }
   ],
   "source": [
    "# What about a larger network size?\n",
    "from keras.models import Sequential\n",
    "from keras.layers import Dense\n",
    "from keras import metrics\n",
    "\n",
    "model = Sequential()\n",
    "model.add(Dense(2048, input_dim=2048, activation='relu'))\n",
    "model.add(Dense(1024, activation='relu'))\n",
    "model.add(Dense(512, activation='relu'))\n",
    "model.add(Dense(1, activation='sigmoid'))\n",
    "model.compile(loss='binary_crossentropy', optimizer='adam', metrics=[metrics.binary_accuracy])\n",
    "\n",
    "y_train_binary = y_train.astype(int)\n",
    "\n",
    "print(y_train_binary[0:5])\n",
    "\n",
    "y_test_binary = y_test.astype(int)\n",
    "\n",
    "model.fit(X_train, y_train_binary, epochs=10, batch_size=1)\n",
    "\n",
    "score = model.evaluate(X_test, y_test_binary)\n",
    "\n",
    "print(\"\\n Loss on test set is: %.2f{0}\".format(score))"
   ]
  },
  {
   "cell_type": "code",
   "execution_count": 9,
   "metadata": {},
   "outputs": [
    {
     "name": "stdout",
     "output_type": "stream",
     "text": [
      "[ True False False  True False]\n",
      "[[  1.88671425e-01]\n",
      " [  7.83160649e-05]\n",
      " [  3.67873199e-08]\n",
      " [  5.14224768e-02]\n",
      " [  5.37856657e-04]]\n",
      "[False, False, False, False, False]\n",
      "             precision    recall  f1-score   support\n",
      "\n",
      "      False       0.67      0.75      0.71      5269\n",
      "       True       0.72      0.64      0.68      5365\n",
      "\n",
      "avg / total       0.70      0.69      0.69     10634\n",
      "\n"
     ]
    }
   ],
   "source": [
    "y_pred = model.predict_on_batch(X_test)\n",
    "\n",
    "print(y_test[0:5])\n",
    "print(y_pred[0:5])\n",
    "\n",
    "y_pred_binarized = list()\n",
    "\n",
    "for pred in y_pred:\n",
    "    if pred >= .5 :\n",
    "        y_pred_binarized.append(True)\n",
    "    else :\n",
    "        y_pred_binarized.append(False)\n",
    "\n",
    "print(y_pred_binarized[0:5])\n",
    "print(classification_report(y_test, y_pred_binarized))"
   ]
  },
  {
   "cell_type": "code",
   "execution_count": null,
   "metadata": {
    "collapsed": true
   },
   "outputs": [],
   "source": [
    "# The larger NN doesn't seem to have helped much..."
   ]
  }
 ],
 "metadata": {
  "kernelspec": {
   "display_name": "Python [conda env:pubchem-sklearn]",
   "language": "python",
   "name": "conda-env-pubchem-sklearn-py"
  },
  "language_info": {
   "codemirror_mode": {
    "name": "ipython",
    "version": 3
   },
   "file_extension": ".py",
   "mimetype": "text/x-python",
   "name": "python",
   "nbconvert_exporter": "python",
   "pygments_lexer": "ipython3",
   "version": "3.6.1"
  }
 },
 "nbformat": 4,
 "nbformat_minor": 2
}
