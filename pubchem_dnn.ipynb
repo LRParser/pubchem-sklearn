{
 "cells": [
  {
   "cell_type": "markdown",
   "metadata": {},
   "source": [
    "## Overview ##\n",
    "\n",
    "PubChem is a site run by the NIH which hosts raw data associated with chemical experiments; here we analyze the data hosted at PubChem for assay 1030, which looks for inhibitors of the protein encoding gene ALDH1A1. You can access the page for this assay [here](https://pubchem.ncbi.nlm.nih.gov/bioassay/1030)\n",
    "\n",
    "## Results ##\n",
    "\n",
    "We use the SMILES string, a common representation for a molecule amongst chemists, to begin the featurization process. Because the length of this string varies, it is normalized in the form of a Morgan Fingerprint; these are then used to train various binary classifiers"
   ]
  },
  {
   "cell_type": "code",
   "execution_count": null,
   "metadata": {
    "collapsed": true
   },
   "outputs": [],
   "source": [
    "# Exploratory data analysis and visualization"
   ]
  },
  {
   "cell_type": "code",
   "execution_count": 8,
   "metadata": {
    "collapsed": true
   },
   "outputs": [],
   "source": [
    "import pickle\n",
    "import numpy as np\n",
    "import pandas as pd\n",
    "from rdkit import Chem, DataStructs\n",
    "from rdkit.Chem import AllChem, rdMolDescriptors\n",
    "from sklearn.metrics import roc_auc_score, classification_report\n",
    "\n",
    "\n",
    "import warnings\n",
    "warnings.filterwarnings('ignore')\n",
    "\n",
    "global_random_state = 42\n",
    "k_fold_splits = 5\n",
    "\n",
    "np.random.seed(global_random_state)\n",
    "\n",
    "\n",
    "active_pct = 0.073125471\n",
    "inactive_pct = 1 - active_pct\n",
    "\n",
    "# We set the inactive to have the weight of the active, and vice versa, to account for imbalance\n",
    "class_weights = { 0: active_pct, 1: inactive_pct }"
   ]
  },
  {
   "cell_type": "code",
   "execution_count": 6,
   "metadata": {},
   "outputs": [
    {
     "name": "stdout",
     "output_type": "stream",
     "text": [
      "tensorflow\n"
     ]
    }
   ],
   "source": [
    "import keras\n",
    "print(keras.backend.backend())"
   ]
  },
  {
   "cell_type": "code",
   "execution_count": 14,
   "metadata": {},
   "outputs": [
    {
     "name": "stdout",
     "output_type": "stream",
     "text": [
      "Epoch 1/3\n",
      "16110/16110 [==============================] - 59s - loss: 0.6359 - acc: 0.6373    \n",
      "Epoch 2/3\n",
      "16110/16110 [==============================] - 59s - loss: 0.5633 - acc: 0.7094    \n",
      "Epoch 3/3\n",
      "16110/16110 [==============================] - 59s - loss: 0.5135 - acc: 0.7497    \n",
      "16082/16112 [============================>.] - ETA: 0sComputed roc_auc score of: 0.6763282025819265\n",
      "             precision    recall  f1-score   support\n",
      "\n",
      "          0       0.67      0.70      0.68      8056\n",
      "          1       0.69      0.65      0.67      8056\n",
      "\n",
      "avg / total       0.68      0.68      0.68     16112\n",
      "\n",
      "When using regressor as an active/inactive classifier, f1 score of: 0.6676015042386384\n",
      "Epoch 1/3\n",
      "16112/16112 [==============================] - 59s - loss: 0.6361 - acc: 0.6375    \n",
      "Epoch 2/3\n",
      "16112/16112 [==============================] - 59s - loss: 0.5643 - acc: 0.7074    \n",
      "Epoch 3/3\n",
      "16112/16112 [==============================] - 60s - loss: 0.5103 - acc: 0.7511    \n",
      "16043/16110 [============================>.] - ETA: 0sComputed roc_auc score of: 0.6773432650527623\n",
      "             precision    recall  f1-score   support\n",
      "\n",
      "          0       0.68      0.67      0.67      8055\n",
      "          1       0.67      0.69      0.68      8055\n",
      "\n",
      "avg / total       0.68      0.68      0.68     16110\n",
      "\n"
     ]
    },
    {
     "ename": "TypeError",
     "evalue": "'numpy.float64' object is not callable",
     "output_type": "error",
     "traceback": [
      "\u001b[0;31m---------------------------------------------------------------------------\u001b[0m",
      "\u001b[0;31mTypeError\u001b[0m                                 Traceback (most recent call last)",
      "\u001b[0;32m<ipython-input-14-76d1f210369c>\u001b[0m in \u001b[0;36m<module>\u001b[0;34m()\u001b[0m\n\u001b[1;32m     50\u001b[0m     \u001b[0my_pred_binarized\u001b[0m \u001b[0;34m=\u001b[0m \u001b[0my_pred\u001b[0m\u001b[0;34m[\u001b[0m\u001b[0;36m0\u001b[0m\u001b[0;34m:\u001b[0m\u001b[0;34m]\u001b[0m \u001b[0;34m>=\u001b[0m \u001b[0;36m.4\u001b[0m\u001b[0;34m\u001b[0m\u001b[0m\n\u001b[1;32m     51\u001b[0m     \u001b[0my_test_binarized\u001b[0m \u001b[0;34m=\u001b[0m \u001b[0my_test\u001b[0m\u001b[0;34m[\u001b[0m\u001b[0;36m0\u001b[0m\u001b[0;34m:\u001b[0m\u001b[0;34m]\u001b[0m \u001b[0;34m>=\u001b[0m \u001b[0;36m.4\u001b[0m\u001b[0;34m\u001b[0m\u001b[0m\n\u001b[0;32m---> 52\u001b[0;31m     \u001b[0mf1_score\u001b[0m \u001b[0;34m=\u001b[0m \u001b[0mf1_score\u001b[0m\u001b[0;34m(\u001b[0m\u001b[0my_pred_binarized\u001b[0m\u001b[0;34m,\u001b[0m\u001b[0my_test_binarized\u001b[0m\u001b[0;34m)\u001b[0m\u001b[0;34m\u001b[0m\u001b[0m\n\u001b[0m\u001b[1;32m     53\u001b[0m     \u001b[0mprint\u001b[0m\u001b[0;34m(\u001b[0m\u001b[0;34m\"When using regressor as an active/inactive classifier, f1 score of: {}\"\u001b[0m\u001b[0;34m.\u001b[0m\u001b[0mformat\u001b[0m\u001b[0;34m(\u001b[0m\u001b[0mf1_score\u001b[0m\u001b[0;34m)\u001b[0m\u001b[0;34m)\u001b[0m\u001b[0;34m\u001b[0m\u001b[0m\n\u001b[1;32m     54\u001b[0m     \u001b[0mf1_score_avg\u001b[0m \u001b[0;34m=\u001b[0m \u001b[0mf1_score_avg\u001b[0m \u001b[0;34m+\u001b[0m \u001b[0mf1_score\u001b[0m\u001b[0;34m\u001b[0m\u001b[0m\n",
      "\u001b[0;31mTypeError\u001b[0m: 'numpy.float64' object is not callable"
     ]
    }
   ],
   "source": [
    "# What about a deep neural network?\n",
    "# Sample code from: https://machinelearningmastery.com/tutorial-first-neural-network-python-keras/\n",
    "\n",
    "from keras.models import Sequential\n",
    "from keras.layers import Dense\n",
    "from keras import metrics\n",
    "from keras.wrappers.scikit_learn import KerasClassifier\n",
    "from sklearn.model_selection import StratifiedKFold\n",
    "from sklearn.model_selection import cross_val_score\n",
    "from sklearn.metrics import roc_auc_score, f1_score\n",
    "\n",
    "import pickle\n",
    "\n",
    "k_fold_splits = 2\n",
    "global_random_state = 42\n",
    "\n",
    "with open('data.classification.undersampled.pickle', 'rb') as f:\n",
    "    # Pickle the 'data' dictionary using the highest protocol available.\n",
    "    (X, y) = pickle.load(f)\n",
    "\n",
    "def create_model() :\n",
    "    model = Sequential()\n",
    "    model.add(Dense(12, input_dim=2048, activation='relu'))\n",
    "    model.add(Dense(8, activation='relu'))\n",
    "    model.add(Dense(1, activation='sigmoid'))\n",
    "    model.compile(loss='binary_crossentropy', optimizer='adam', metrics=[\"accuracy\"])\n",
    "    return model\n",
    "\n",
    "skf = StratifiedKFold(n_splits=k_fold_splits,shuffle=True,random_state=global_random_state)\n",
    "\n",
    "roc_auc_avg = 0\n",
    "f1_score_avg = 0\n",
    "\n",
    "for train_index, test_index in skf.split(X,y) :\n",
    "\n",
    "    X_train = X[train_index]\n",
    "    X_test = X[test_index]\n",
    "    y_train = y[train_index]\n",
    "    y_test = y[test_index]\n",
    "\n",
    "    classifier = KerasClassifier(build_fn=create_model, epochs=3, batch_size=1, verbose=1)\n",
    "    classifier.fit(X_train,y_train)\n",
    "    y_pred = classifier.predict(X_test)\n",
    "    auc = roc_auc_score(y_test, y_pred, average='macro', sample_weight=None)\n",
    "    print(\"Computed roc_auc score of: {}\".format(auc))\n",
    "    print(classification_report(y_test, y_pred))\n",
    "    roc_auc_avg = roc_auc_avg + auc\n",
    "    \n",
    "    \n",
    "    y_pred_binarized = y_pred[0:] >= .4\n",
    "    y_test_binarized = y_test[0:] >= .4\n",
    "    fscore = f1_score(y_pred_binarized,y_test_binarized)\n",
    "    print(\"When using regressor as an active/inactive classifier, f1 score of: {}\".format(fscore))\n",
    "    f1_score_avg = f1_score_avg + fscore\n",
    "\n",
    "    \n",
    "roc_auc_avg = roc_auc_avg / k_fold_splits\n",
    "f1_score_avg = f1_score_avg / k_fold_splits\n",
    "print(\"Average roc_auc score is: {}\".format(roc_auc_avg))\n",
    "print(\"Average f1_score is: {}\".format(f1_score_average))"
   ]
  },
  {
   "cell_type": "code",
   "execution_count": null,
   "metadata": {},
   "outputs": [
    {
     "name": "stdout",
     "output_type": "stream",
     "text": [
      "Epoch 1/3\n",
      "16110/16110 [==============================] - 90s - loss: 0.6471 - acc: 0.6318    \n",
      "Epoch 2/3\n",
      "16110/16110 [==============================] - 89s - loss: 0.5580 - acc: 0.7228    \n",
      "Epoch 3/3\n",
      "16110/16110 [==============================] - 91s - loss: 0.4350 - acc: 0.8060    \n",
      "16062/16112 [============================>.] - ETA: 0sComputed roc_auc score of: 0.6903550148957299\n",
      "             precision    recall  f1-score   support\n",
      "\n",
      "          0       0.68      0.73      0.70      8056\n",
      "          1       0.71      0.65      0.68      8056\n",
      "\n",
      "avg / total       0.69      0.69      0.69     16112\n",
      "\n",
      "When using regressor as an active/inactive classifier, f1 score of: 0.6786887357506279\n",
      "Epoch 1/3\n",
      "15015/16112 [==========================>...] - ETA: 6s - loss: 0.6493 - acc: 0.6322"
     ]
    }
   ],
   "source": [
    "# What about a deep neural network?\n",
    "# Sample code from: https://machinelearningmastery.com/tutorial-first-neural-network-python-keras/\n",
    "\n",
    "# What about a deep neural network?\n",
    "# Sample code from: https://machinelearningmastery.com/tutorial-first-neural-network-python-keras/\n",
    "\n",
    "from keras.models import Sequential\n",
    "from keras.layers import Dense\n",
    "from keras import metrics\n",
    "from keras.wrappers.scikit_learn import KerasClassifier\n",
    "from sklearn.model_selection import StratifiedKFold\n",
    "from sklearn.model_selection import cross_val_score\n",
    "from sklearn.metrics import roc_auc_score, f1_score\n",
    "\n",
    "import pickle\n",
    "\n",
    "k_fold_splits = 2\n",
    "global_random_state = 42\n",
    "\n",
    "with open('data.classification.undersampled.pickle', 'rb') as f:\n",
    "    # Pickle the 'data' dictionary using the highest protocol available.\n",
    "    (X, y) = pickle.load(f)\n",
    "\n",
    "def create_model() :\n",
    "    model = Sequential()\n",
    "    model.add(Dense(512, input_dim=2048, activation='relu'))\n",
    "    model.add(Dense(256, activation='relu'))\n",
    "    model.add(Dense(128, activation='relu'))\n",
    "    model.add(Dense(1, activation='sigmoid'))\n",
    "    model.compile(loss='binary_crossentropy', optimizer='adam', metrics=[\"accuracy\"])\n",
    "    return model\n",
    "\n",
    "skf = StratifiedKFold(n_splits=k_fold_splits,shuffle=True,random_state=global_random_state)\n",
    "\n",
    "roc_auc_avg = 0\n",
    "f1_score_avg = 0\n",
    "\n",
    "for train_index, test_index in skf.split(X,y) :\n",
    "\n",
    "    X_train = X[train_index]\n",
    "    X_test = X[test_index]\n",
    "    y_train = y[train_index]\n",
    "    y_test = y[test_index]\n",
    "\n",
    "    classifier = KerasClassifier(build_fn=create_model, epochs=3, batch_size=1, verbose=1)\n",
    "    classifier.fit(X_train,y_train)\n",
    "    y_pred = classifier.predict(X_test)\n",
    "    auc = roc_auc_score(y_test, y_pred, average='macro', sample_weight=None)\n",
    "    print(\"Computed roc_auc score of: {}\".format(auc))\n",
    "    print(classification_report(y_test, y_pred))\n",
    "    roc_auc_avg = roc_auc_avg + auc\n",
    "    \n",
    "    \n",
    "    y_pred_binarized = y_pred[0:] >= .4\n",
    "    y_test_binarized = y_test[0:] >= .4\n",
    "    fscore = f1_score(y_pred_binarized,y_test_binarized)\n",
    "    print(\"When using regressor as an active/inactive classifier, f1 score of: {}\".format(fscore))\n",
    "    f1_score_avg = f1_score_avg + fscore\n",
    "\n",
    "    \n",
    "roc_auc_avg = roc_auc_avg / k_fold_splits\n",
    "f1_score_avg = f1_score_avg / k_fold_splits\n",
    "print(\"Average roc_auc score is: {}\".format(roc_auc_avg))\n",
    "print(\"Average f1_score is: {}\".format(f1_score_average))"
   ]
  },
  {
   "cell_type": "code",
   "execution_count": null,
   "metadata": {
    "collapsed": true
   },
   "outputs": [],
   "source": [
    "from keras.models import load_model\n",
    "model_large = load_model(\"pcba_1030_large_nn.h5\")\n",
    "y_pred = model_large.predict_on_batch(X_test)\n",
    "y_pred_binarized = y_pred[0:] > .5\n",
    "print(classification_report(y_test, y_pred_binarized))"
   ]
  }
 ],
 "metadata": {
  "kernelspec": {
   "display_name": "Python [conda env:pubchem-sklearn]",
   "language": "python",
   "name": "conda-env-pubchem-sklearn-py"
  },
  "language_info": {
   "codemirror_mode": {
    "name": "ipython",
    "version": 3
   },
   "file_extension": ".py",
   "mimetype": "text/x-python",
   "name": "python",
   "nbconvert_exporter": "python",
   "pygments_lexer": "ipython3",
   "version": "3.6.1"
  }
 },
 "nbformat": 4,
 "nbformat_minor": 2
}
