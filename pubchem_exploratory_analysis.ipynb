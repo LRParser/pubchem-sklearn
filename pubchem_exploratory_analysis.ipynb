{
 "cells": [
  {
   "cell_type": "code",
   "execution_count": 14,
   "metadata": {
    "collapsed": true
   },
   "outputs": [],
   "source": [
    "import matplotlib.pyplot as plt\n",
    "import matplotlib\n",
    "matplotlib.style.use('ggplot')\n",
    "import pandas as pd\n",
    "import numpy as np\n",
    "from collections import Counter\n",
    "from rdkit import Chem\n",
    "from rdkit.Chem import Draw\n",
    "from rdkit.Chem.Draw import IPythonConsole"
   ]
  },
  {
   "cell_type": "code",
   "execution_count": 2,
   "metadata": {},
   "outputs": [
    {
     "name": "stderr",
     "output_type": "stream",
     "text": [
      "/home/joe/anaconda3/envs/pubchem-sklearn/lib/python3.6/site-packages/IPython/core/interactiveshell.py:2717: DtypeWarning: Columns (0,8,9,12,13,14,15,16,17,19,20,21,22,23,24,25,26,27,28,29,30,31,32,33,34,35,36,37,38,39,40,41,42,43,44,45) have mixed types. Specify dtype option on import or set low_memory=False.\n",
      "  interactivity=interactivity, compiler=compiler, result=result)\n"
     ]
    }
   ],
   "source": [
    "# Load bioassay results\n",
    "ba_df = pd.read_csv(\"AID_1030_datatable_all.csv\")\n",
    "\n",
    "# Load compound SMILES info\n",
    "cs_df = pd.read_csv(\"AID_1030_compound_smiles.csv\",sep='\\t',header=0)\n",
    "\n",
    "# Merge the two\n",
    "full_df = ba_df.merge(cs_df,on='PUBCHEM_CID')\n",
    "\n",
    "# Cleanup the compound ID column\n",
    "full_df[\"PUBCHEM_CID\"] = full_df[\"PUBCHEM_CID\"].astype(int)\n",
    "full_df[\"PUBCHEM_ACTIVITY_SCORE\"] = full_df[\"PUBCHEM_ACTIVITY_SCORE\"].astype(int)\n"
   ]
  },
  {
   "cell_type": "code",
   "execution_count": 3,
   "metadata": {},
   "outputs": [
    {
     "name": "stdout",
     "output_type": "stream",
     "text": [
      "count       220365\n",
      "unique           3\n",
      "top       Inactive\n",
      "freq        148299\n",
      "Name: PUBCHEM_ACTIVITY_OUTCOME, dtype: object\n",
      "['Inconclusive' 'Inactive' 'Active']\n"
     ]
    }
   ],
   "source": [
    "outcomes = full_df[\"PUBCHEM_ACTIVITY_OUTCOME\"]\n",
    "print(outcomes.describe())\n",
    "print(outcomes.unique())"
   ]
  },
  {
   "cell_type": "code",
   "execution_count": 4,
   "metadata": {},
   "outputs": [
    {
     "name": "stdout",
     "output_type": "stream",
     "text": [
      "Active: 16112, Inactive: 148299, Inconclusive: 55954\n"
     ]
    }
   ],
   "source": [
    "# Calculate the frequency of each of the outcomes\n",
    "c = Counter(outcomes)\n",
    "active_count = c[\"Active\"]\n",
    "inactive_count = c[\"Inactive\"]\n",
    "inconclusive_count = c[\"Inconclusive\"]\n",
    "print(\"Active: {}, Inactive: {}, Inconclusive: {}\".format(active_count,inactive_count,inconclusive_count))"
   ]
  },
  {
   "cell_type": "code",
   "execution_count": 8,
   "metadata": {},
   "outputs": [
    {
     "data": {
      "text/plain": [
       "<matplotlib.axes._subplots.AxesSubplot at 0x7f93f97eee80>"
      ]
     },
     "execution_count": 8,
     "metadata": {},
     "output_type": "execute_result"
    },
    {
     "data": {
      "image/png": "[encoded data removed]",
      "text/plain": [
       "<matplotlib.figure.Figure at 0x7f93f9075358>"
      ]
     },
     "metadata": {},
     "output_type": "display_data"
    }
   ],
   "source": [
    "# Plot a histogram of activity scores\n",
    "%matplotlib inline\n",
    "full_df[\"PUBCHEM_ACTIVITY_SCORE\"].plot.hist()"
   ]
  },
  {
   "cell_type": "code",
   "execution_count": 17,
   "metadata": {},
   "outputs": [
    {
     "name": "stdout",
     "output_type": "stream",
     "text": [
      "Example 1: CCOCCCNCC(=O)NC1=CC=C(C=C1)OC(F)(F)F.Cl, Example 2: COCCN1C(=NN=N1)CN2CCC(CC2)CC3=CC=CC=C3.Cl\n"
     ]
    },
    {
     "data": {
      "image/png": "[encoded data removed]",
      "text/plain": [
       "<PIL.Image.Image image mode=RGBA size=600x200 at 0x7F93F973B240>"
      ]
     },
     "execution_count": 17,
     "metadata": {},
     "output_type": "execute_result"
    }
   ],
   "source": [
    "# Now, let's look at the column we'll be using to derive our features. This is the \"smiles\" column\n",
    "smiles = full_df[\"Smiles\"]\n",
    "smile_1 = smiles[0]\n",
    "smile_2 = smiles[1]\n",
    "print(\"Example 1: {}, Example 2: {}\".format(smile_1,smile_2))\n",
    "mol_1 = Chem.MolFromSmiles(smile_1)\n",
    "mol_2 = Chem.MolFromSmiles(smile_2)\n",
    "\n",
    "Draw.MolsToGridImage([mol_1,mol_2])\n",
    "# Let's print one of the molecule"
   ]
  },
  {
   "cell_type": "code",
   "execution_count": 10,
   "metadata": {},
   "outputs": [
    {
     "data": {
      "text/plain": [
       "count    220365.000000\n",
       "mean         48.853248\n",
       "std          13.989668\n",
       "min           2.000000\n",
       "25%          40.000000\n",
       "50%          48.000000\n",
       "75%          56.000000\n",
       "max         594.000000\n",
       "dtype: float64"
      ]
     },
     "execution_count": 10,
     "metadata": {},
     "output_type": "execute_result"
    }
   ],
   "source": [
    "smiles_lengths = pd.Series([len(s) for s in smiles])\n",
    "smiles_lengths.describe()"
   ]
  },
  {
   "cell_type": "code",
   "execution_count": null,
   "metadata": {
    "collapsed": true
   },
   "outputs": [],
   "source": []
  }
 ],
 "metadata": {
  "kernelspec": {
   "display_name": "Python [conda env:pubchem-sklearn]",
   "language": "python",
   "name": "conda-env-pubchem-sklearn-py"
  },
  "language_info": {
   "codemirror_mode": {
    "name": "ipython",
    "version": 3
   },
   "file_extension": ".py",
   "mimetype": "text/x-python",
   "name": "python",
   "nbconvert_exporter": "python",
   "pygments_lexer": "ipython3",
   "version": "3.6.1"
  }
 },
 "nbformat": 4,
 "nbformat_minor": 2
}
