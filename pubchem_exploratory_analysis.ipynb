{
 "cells": [
  {
   "cell_type": "code",
   "execution_count": 12,
   "metadata": {
    "collapsed": true
   },
   "outputs": [],
   "source": [
    "import matplotlib.pyplot as plt\n",
    "import matplotlib\n",
    "matplotlib.style.use('ggplot')\n",
    "import pandas as pd\n",
    "import numpy as np\n",
    "from collections import Counter"
   ]
  },
  {
   "cell_type": "code",
   "execution_count": 4,
   "metadata": {},
   "outputs": [
    {
     "name": "stderr",
     "output_type": "stream",
     "text": [
      "/home/joe/anaconda3/envs/pubchem-sklearn/lib/python3.6/site-packages/IPython/core/interactiveshell.py:2717: DtypeWarning: Columns (0,8,9,12,13,14,15,16,17,19,20,21,22,23,24,25,26,27,28,29,30,31,32,33,34,35,36,37,38,39,40,41,42,43,44,45) have mixed types. Specify dtype option on import or set low_memory=False.\n",
      "  interactivity=interactivity, compiler=compiler, result=result)\n"
     ]
    }
   ],
   "source": [
    "# Load bioassay results\n",
    "ba_df = pd.read_csv(\"AID_1030_datatable_all.csv\")\n",
    "\n",
    "# Load compound SMILES info\n",
    "cs_df = pd.read_csv(\"AID_1030_compound_smiles.csv\",sep='\\t',header=0)\n",
    "\n",
    "# Merge the two\n",
    "full_df = ba_df.merge(cs_df,on='PUBCHEM_CID')\n",
    "\n",
    "# Cleanup the compound ID column\n",
    "full_df[\"PUBCHEM_CID\"] = full_df[\"PUBCHEM_CID\"].astype(int)\n"
   ]
  },
  {
   "cell_type": "code",
   "execution_count": 10,
   "metadata": {},
   "outputs": [
    {
     "name": "stdout",
     "output_type": "stream",
     "text": [
      "count       220365\n",
      "unique           3\n",
      "top       Inactive\n",
      "freq        148299\n",
      "Name: PUBCHEM_ACTIVITY_OUTCOME, dtype: object\n",
      "['Inconclusive' 'Inactive' 'Active']\n"
     ]
    }
   ],
   "source": [
    "outcomes = full_df[\"PUBCHEM_ACTIVITY_OUTCOME\"]\n",
    "print(outcomes.describe())\n",
    "print(outcomes.unique())"
   ]
  },
  {
   "cell_type": "code",
   "execution_count": 14,
   "metadata": {},
   "outputs": [
    {
     "name": "stdout",
     "output_type": "stream",
     "text": [
      "Active: 16112, Inactive: 148299, Inconclusive: 55954\n"
     ]
    }
   ],
   "source": [
    "# Calculate the frequency of each of the outcomes\n",
    "c = Counter(outcomes)\n",
    "active_count = c[\"Active\"]\n",
    "inactive_count = c[\"Inactive\"]\n",
    "inconclusive_count = c[\"Inconclusive\"]\n",
    "print(\"Active: {}, Inactive: {}, Inconclusive: {}\".format(active_count,inactive_count,inconclusive_count))"
   ]
  },
  {
   "cell_type": "code",
   "execution_count": 15,
   "metadata": {},
   "outputs": [
    {
     "name": "stdout",
     "output_type": "stream",
     "text": [
      "count                                                220365\n",
      "unique                                               216887\n",
      "top       COC1=C(C=C(C=C1)Cl)C(=O)NCCC2=CC=C(C=C2)S(=O)(...\n",
      "freq                                                      8\n",
      "Name: Smiles, dtype: object\n"
     ]
    }
   ],
   "source": [
    "# Now, let's look at the column we'll be using to derive our features. This is the \"smiles\" column\n",
    "smiles = full_df[\"Smiles\"]\n",
    "print(smiles.describe())"
   ]
  },
  {
   "cell_type": "code",
   "execution_count": 16,
   "metadata": {},
   "outputs": [
    {
     "data": {
      "text/plain": [
       "count    220365.000000\n",
       "mean         48.853248\n",
       "std          13.989668\n",
       "min           2.000000\n",
       "25%          40.000000\n",
       "50%          48.000000\n",
       "75%          56.000000\n",
       "max         594.000000\n",
       "dtype: float64"
      ]
     },
     "execution_count": 16,
     "metadata": {},
     "output_type": "execute_result"
    }
   ],
   "source": [
    "smiles_lengths = pd.Series([len(s) for s in smiles])\n",
    "smiles_lengths.describe()"
   ]
  },
  {
   "cell_type": "code",
   "execution_count": 19,
   "metadata": {},
   "outputs": [
    {
     "name": "stdout",
     "output_type": "stream",
     "text": [
      "count                          16112\n",
      "unique                         16025\n",
      "top       CCN(CC)C(=S)SSC(=S)N(CC)CC\n",
      "freq                               5\n",
      "Name: Smiles, dtype: object\n",
      "count    16112.000000\n",
      "mean        50.287053\n",
      "std         12.586626\n",
      "min          5.000000\n",
      "25%         42.000000\n",
      "50%         50.000000\n",
      "75%         58.000000\n",
      "max        327.000000\n",
      "dtype: float64\n"
     ]
    }
   ],
   "source": [
    "active_rows = full_df.loc[full_df[\"PUBCHEM_ACTIVITY_OUTCOME\"] == 'Active']\n",
    "active_smiles = active_rows[\"Smiles\"]\n",
    "print(active_smiles.describe())\n",
    "active_smiles_lengths = pd.Series([len(s) for s in active_smiles])\n",
    "print(active_smiles_lengths.describe())"
   ]
  },
  {
   "cell_type": "code",
   "execution_count": null,
   "metadata": {
    "collapsed": true
   },
   "outputs": [],
   "source": []
  }
 ],
 "metadata": {
  "kernelspec": {
   "display_name": "Python [conda env:pubchem-sklearn]",
   "language": "python",
   "name": "conda-env-pubchem-sklearn-py"
  },
  "language_info": {
   "codemirror_mode": {
    "name": "ipython",
    "version": 3
   },
   "file_extension": ".py",
   "mimetype": "text/x-python",
   "name": "python",
   "nbconvert_exporter": "python",
   "pygments_lexer": "ipython3",
   "version": "3.6.1"
  }
 },
 "nbformat": 4,
 "nbformat_minor": 2
}
