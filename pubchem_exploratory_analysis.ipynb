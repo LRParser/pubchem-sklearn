{
 "cells": [
  {
   "cell_type": "code",
   "execution_count": 3,
   "metadata": {
    "collapsed": true
   },
   "outputs": [],
   "source": [
    "import matplotlib.pyplot as plt\n",
    "import matplotlib\n",
    "matplotlib.style.use('ggplot')\n",
    "import pandas as pd\n",
    "import numpy as np\n",
    "from collections import Counter\n",
    "from rdkit import Chem\n",
    "from rdkit.Chem import Draw\n",
    "from rdkit.Chem.Draw import IPythonConsole\n",
    "from rdkit import Chem, DataStructs\n",
    "from rdkit.Chem import AllChem, rdMolDescriptors"
   ]
  },
  {
   "cell_type": "code",
   "execution_count": 4,
   "metadata": {
    "collapsed": true
   },
   "outputs": [],
   "source": [
    "import logging, sys\n",
    "logger = logging.getLogger()\n",
    "logger.setLevel(logging.DEBUG)\n",
    "\n",
    "formatter = logging.Formatter('%(asctime)s - %(levelname)s - %(message)s')\n",
    "\n",
    "ch = logging.StreamHandler(sys.stdout)\n",
    "ch.setLevel(logging.DEBUG)\n",
    "ch.setFormatter(formatter)\n",
    "logger.addHandler(ch)"
   ]
  },
  {
   "cell_type": "code",
   "execution_count": 5,
   "metadata": {},
   "outputs": [
    {
     "name": "stderr",
     "output_type": "stream",
     "text": [
      "/home/joe/anaconda3/envs/pubchem-sklearn/lib/python3.6/site-packages/IPython/core/interactiveshell.py:2717: DtypeWarning: Columns (0,8,9,12,13,14,15,16,17,19,20,21,22,23,24,25,26,27,28,29,30,31,32,33,34,35,36,37,38,39,40,41,42,43,44,45) have mixed types. Specify dtype option on import or set low_memory=False.\n",
      "  interactivity=interactivity, compiler=compiler, result=result)\n"
     ]
    }
   ],
   "source": [
    "# Load bioassay results\n",
    "ba_df = pd.read_csv(\"AID_1030_datatable_all.csv\")\n",
    "\n",
    "# Load compound SMILES info\n",
    "cs_df = pd.read_csv(\"AID_1030_compound_smiles.csv\",sep='\\t',header=0)\n",
    "\n",
    "# Merge the two\n",
    "full_df = ba_df.merge(cs_df,on='PUBCHEM_CID')\n",
    "\n",
    "# Cleanup the compound ID column\n",
    "full_df[\"PUBCHEM_CID\"] = full_df[\"PUBCHEM_CID\"].astype(int)\n",
    "full_df[\"PUBCHEM_ACTIVITY_SCORE\"] = full_df[\"PUBCHEM_ACTIVITY_SCORE\"].astype(int)\n"
   ]
  },
  {
   "cell_type": "code",
   "execution_count": 6,
   "metadata": {},
   "outputs": [
    {
     "name": "stdout",
     "output_type": "stream",
     "text": [
      "count       220365\n",
      "unique           3\n",
      "top       Inactive\n",
      "freq        148299\n",
      "Name: PUBCHEM_ACTIVITY_OUTCOME, dtype: object\n",
      "['Inconclusive' 'Inactive' 'Active']\n"
     ]
    },
    {
     "data": {
      "text/plain": [
       "<matplotlib.axes._subplots.AxesSubplot at 0x7f23ae352fd0>"
      ]
     },
     "execution_count": 6,
     "metadata": {},
     "output_type": "execute_result"
    },
    {
     "data": {
      "image/png": "[encoded data removed]",
      "text/plain": [
       "<matplotlib.figure.Figure at 0x7f23ae352588>"
      ]
     },
     "metadata": {},
     "output_type": "display_data"
    }
   ],
   "source": [
    "outcomes = full_df[\"PUBCHEM_ACTIVITY_OUTCOME\"]\n",
    "print(outcomes.describe())\n",
    "print(outcomes.unique())\n",
    "\n",
    "# Calculate the frequency of each of the outcomes\n",
    "c = Counter(outcomes)\n",
    "active_count = c[\"Active\"]\n",
    "inactive_count = c[\"Inactive\"]\n",
    "inconclusive_count = c[\"Inconclusive\"]\n",
    "\n",
    "# Plot a histogram of outcomes\n",
    "%matplotlib inline\n",
    "\n",
    "df_overview = pd.DataFrame(data=[active_count, inactive_count, inconclusive_count]\n",
    "                          ,index=['active','inactive','inconclusive'])\n",
    "\n",
    "df_overview.plot(kind='bar')"
   ]
  },
  {
   "cell_type": "code",
   "execution_count": 7,
   "metadata": {
    "collapsed": true
   },
   "outputs": [],
   "source": [
    "# Delete CID 3246048, which fails featurization\n",
    "full_df = full_df[full_df[\"PUBCHEM_CID\"] != 3246048]\n",
    "\n",
    "# Delete all inconclusive results\n",
    "full_df = full_df[full_df[\"PUBCHEM_ACTIVITY_OUTCOME\"] != \"Inconclusive\"]"
   ]
  },
  {
   "cell_type": "code",
   "execution_count": 8,
   "metadata": {},
   "outputs": [
    {
     "name": "stdout",
     "output_type": "stream",
     "text": [
      "count       164410\n",
      "unique           2\n",
      "top       Inactive\n",
      "freq        148299\n",
      "Name: PUBCHEM_ACTIVITY_OUTCOME, dtype: object\n",
      "['Inactive' 'Active']\n",
      "Active: 16111, Inactive: 148299\n"
     ]
    },
    {
     "data": {
      "text/plain": [
       "<matplotlib.axes._subplots.AxesSubplot at 0x7f23ae206668>"
      ]
     },
     "execution_count": 8,
     "metadata": {},
     "output_type": "execute_result"
    },
    {
     "data": {
      "image/png": "[encoded data removed]",
      "text/plain": [
       "<matplotlib.figure.Figure at 0x7f23e0f84438>"
      ]
     },
     "metadata": {},
     "output_type": "display_data"
    }
   ],
   "source": [
    "outcomes = full_df[\"PUBCHEM_ACTIVITY_OUTCOME\"]\n",
    "print(outcomes.describe())\n",
    "print(outcomes.unique())\n",
    "\n",
    "# Calculate the frequency of each of the outcomes\n",
    "c = Counter(outcomes)\n",
    "active_count = c[\"Active\"]\n",
    "inactive_count = c[\"Inactive\"]\n",
    "inconclusive_count = c[\"Inconclusive\"]\n",
    "print(\"Active: {}, Inactive: {}\".format(active_count,inactive_count))\n",
    "\n",
    "# Plot a histogram of outcomes\n",
    "%matplotlib inline\n",
    "\n",
    "df_overview = pd.DataFrame(data=[active_count, inactive_count]\n",
    "                          ,index=['active','inactive'])\n",
    "\n",
    "df_overview.plot(kind='bar')"
   ]
  },
  {
   "cell_type": "code",
   "execution_count": null,
   "metadata": {},
   "outputs": [
    {
     "name": "stdout",
     "output_type": "stream",
     "text": [
      "SMILES: C1CCC(C1)N(CC(=O)NCC2=CC=CS2)C(=O)C3=CC4=C(S3)CCC4\n",
      "2017-09-28 13:52:29,075 - DEBUG - STREAM b'IHDR' 16 13\n",
      "2017-09-28 13:52:29,075 - DEBUG - STREAM b'bKGD' 41 6\n",
      "2017-09-28 13:52:29,076 - DEBUG - b'bKGD' 41 6 (unknown)\n",
      "2017-09-28 13:52:29,076 - DEBUG - STREAM b'IDAT' 59 5842\n"
     ]
    },
    {
     "data": {
      "text/plain": [
       "<matplotlib.axes._subplots.AxesSubplot at 0x7f23ae70e710>"
      ]
     },
     "execution_count": 9,
     "metadata": {},
     "output_type": "execute_result"
    },
    {
     "data": {
      "image/png": "[encoded data removed]",
      "text/plain": [
       "<matplotlib.figure.Figure at 0x7f23ae933dd8>"
      ]
     },
     "metadata": {},
     "output_type": "display_data"
    }
   ],
   "source": [
    "# Now, let's look at the column we'll be using to derive our features. This is the \"smiles\" column\n",
    "smiles = full_df[\"Smiles\"]\n",
    "# Let's look at a sample indicies\n",
    "smile_1 = smiles[100]\n",
    "print(\"SMILES: {}\".format(smile_1))\n",
    "mol_1 = Chem.MolFromSmiles(smile_1)\n",
    "#Draw.ShowMol(mol_1)\n",
    "Draw.MolsToGridImage([mol_1])\n",
    "\n",
    "smiles_lengths = pd.Series([len(s) for s in smiles])\n",
    "smiles_lengths.describe()\n",
    "\n",
    "%matplotlib inline\n",
    "smiles_lengths.plot.hist(bins=20,title=\"Distribution of SMILES String Lengths\")"
   ]
  },
  {
   "cell_type": "code",
   "execution_count": null,
   "metadata": {},
   "outputs": [
    {
     "name": "stdout",
     "output_type": "stream",
     "text": [
      "2017-09-28 13:52:32,918 - INFO - Processed index: 10000\n",
      "2017-09-28 13:52:38,525 - INFO - Processed index: 30000\n",
      "2017-09-28 13:52:41,444 - INFO - Processed index: 40000\n",
      "2017-09-28 13:52:44,409 - INFO - Processed index: 50000\n",
      "2017-09-28 13:52:47,462 - INFO - Processed index: 60000\n",
      "2017-09-28 13:52:53,455 - INFO - Processed index: 80000\n",
      "2017-09-28 13:52:56,399 - INFO - Processed index: 90000\n",
      "2017-09-28 13:52:59,424 - INFO - Processed index: 100000\n",
      "2017-09-28 13:53:02,442 - INFO - Processed index: 110000\n",
      "2017-09-28 13:53:05,534 - INFO - Processed index: 120000\n",
      "2017-09-28 13:53:08,684 - INFO - Processed index: 130000\n",
      "2017-09-28 13:53:11,839 - INFO - Processed index: 140000\n",
      "2017-09-28 13:53:14,971 - INFO - Processed index: 150000\n",
      "2017-09-28 13:53:21,158 - INFO - Processed index: 170000\n",
      "2017-09-28 13:53:33,252 - INFO - Processed index: 210000\n",
      "2017-09-28 13:53:36,854 - INFO - Processed index: 220000\n"
     ]
    }
   ],
   "source": [
    "# Now let's look at the actual feature fingerprints, calculating them\n",
    "\n",
    "fingerprints = list()\n",
    "fingerprints_np = list()\n",
    "cids = list()\n",
    "activities = list()\n",
    "\n",
    "for index, row in full_df.iterrows() :\n",
    "    cid = row[\"PUBCHEM_CID\"]\n",
    "    smiles_string = row[\"Smiles\"]\n",
    "    mol = Chem.MolFromSmiles(smiles_string)\n",
    "    is_active = row[\"PUBCHEM_ACTIVITY_OUTCOME\"] == \"Active\"\n",
    "    if mol is None:\n",
    "        logger.info(\"Molecule failed featurization\")\n",
    "        logger.info(index)\n",
    "    else: \n",
    "        fingerprint = rdMolDescriptors.GetMorganFingerprintAsBitVect(mol,2,nBits=2048,useChirality=False,\n",
    "                                                                     useBondTypes=False,useFeatures=False)\n",
    "    # From RDKit documentation\n",
    "    fingerprints.append(fingerprint)\n",
    "    arr = np.zeros((1,))\n",
    "    DataStructs.ConvertToNumpyArray(fingerprint, arr)\n",
    "    fingerprints_np.append(arr)\n",
    "    cids.append(cid)\n",
    "    activities.append(is_active)\n",
    "    \n",
    "    if index % 10000 == 0:\n",
    "        logger.info(\"Processed index: {0}\".format(index))\n",
    "    \n",
    "fp_arr = np.array(fingerprints)\n",
    "activities_arr = np.array(activities,dtype=bool)\n"
   ]
  },
  {
   "cell_type": "code",
   "execution_count": null,
   "metadata": {},
   "outputs": [],
   "source": [
    "df_undersampled = pd.DataFrame(data={'fingerprint' : fingerprints, 'active': activities_arr},index=cids)"
   ]
  },
  {
   "cell_type": "code",
   "execution_count": 2,
   "metadata": {},
   "outputs": [
    {
     "ename": "NameError",
     "evalue": "name 'activities' is not defined",
     "output_type": "error",
     "traceback": [
      "\u001b[0;31m---------------------------------------------------------------------------\u001b[0m",
      "\u001b[0;31mNameError\u001b[0m                                 Traceback (most recent call last)",
      "\u001b[0;32m<ipython-input-2-62420209a6cf>\u001b[0m in \u001b[0;36m<module>\u001b[0;34m()\u001b[0m\n\u001b[1;32m      1\u001b[0m \u001b[0;32mfrom\u001b[0m \u001b[0mcollections\u001b[0m \u001b[0;32mimport\u001b[0m \u001b[0mCounter\u001b[0m\u001b[0;34m\u001b[0m\u001b[0m\n\u001b[0;32m----> 2\u001b[0;31m \u001b[0mc\u001b[0m \u001b[0;34m=\u001b[0m \u001b[0mCounter\u001b[0m\u001b[0;34m(\u001b[0m\u001b[0mactivities\u001b[0m\u001b[0;34m)\u001b[0m\u001b[0;34m\u001b[0m\u001b[0m\n\u001b[0m\u001b[1;32m      3\u001b[0m \u001b[0mactive_count\u001b[0m \u001b[0;34m=\u001b[0m \u001b[0mc\u001b[0m\u001b[0;34m[\u001b[0m\u001b[0;32mTrue\u001b[0m\u001b[0;34m]\u001b[0m\u001b[0;34m\u001b[0m\u001b[0m\n\u001b[1;32m      4\u001b[0m \u001b[0minactive_count\u001b[0m \u001b[0;34m=\u001b[0m \u001b[0mc\u001b[0m\u001b[0;34m[\u001b[0m\u001b[0;32mFalse\u001b[0m\u001b[0;34m]\u001b[0m\u001b[0;34m\u001b[0m\u001b[0m\n\u001b[1;32m      5\u001b[0m \u001b[0mprint\u001b[0m\u001b[0;34m(\u001b[0m\u001b[0;34m\"Active: {}, Inactive: {}\"\u001b[0m\u001b[0;34m.\u001b[0m\u001b[0mformat\u001b[0m\u001b[0;34m(\u001b[0m\u001b[0mactive_count\u001b[0m\u001b[0;34m,\u001b[0m\u001b[0minactive_count\u001b[0m\u001b[0;34m)\u001b[0m\u001b[0;34m)\u001b[0m\u001b[0;34m\u001b[0m\u001b[0m\n",
      "\u001b[0;31mNameError\u001b[0m: name 'activities' is not defined"
     ]
    }
   ],
   "source": [
    "c = Counter(activities)\n",
    "active_count = c[True]\n",
    "inactive_count = c[False]\n",
    "print(\"Active: {}, Inactive: {}\".format(active_count,inactive_count))\n",
    "\n",
    "# Plot a histogram of outcomes\n",
    "%matplotlib inline\n",
    "\n",
    "df_overview = pd.DataFrame(data=[active_count, inactive_count]\n",
    "                          ,index=['active','inactive'])\n",
    "\n",
    "df_overview.plot(kind='bar')"
   ]
  },
  {
   "cell_type": "code",
   "execution_count": null,
   "metadata": {
    "collapsed": true
   },
   "outputs": [],
   "source": [
    "fpBitCount = Counter()\n",
    "for fp in df_undersampled['fingerprints'] :\n",
    "    for bit in fp.GetOnBits():\n",
    "        fpBitCount[bit]+=1"
   ]
  },
  {
   "cell_type": "code",
   "execution_count": null,
   "metadata": {},
   "outputs": [],
   "source": [
    "mostCommonBits = fpBitCount.most_common(10)\n",
    "labels = [i for i,j in mostCommonBits]\n",
    "values = [j for i,j in mostCommonBits]\n",
    "df_overview = pd.DataFrame(data=values\n",
    "                          ,index=labels)\n",
    "df_overview.plot(kind='bar')\n",
    "print(mostCommonBits)"
   ]
  },
  {
   "cell_type": "code",
   "execution_count": null,
   "metadata": {
    "collapsed": true
   },
   "outputs": [],
   "source": [
    "# Now, let's undersample to obtain an even percentage of active and inactive samples\n",
    "\n",
    "fingerprints = np.array(fingerprints)\n",
    "activities = np.array(activities,dtype=int)\n",
    "        \n",
    "logger.info(\"Undersampling\")\n",
    "\n",
    "rus = RandomUnderSampler(random_state=global_random_state)\n",
    "X, y = rus.fit_sample(fingerprints, activities)\n",
    "\n",
    "# Let's look again at data distribution\n",
    "pd.Series(y).plot.hist()\n",
    "\n",
    "fpBitCount = Counter()\n",
    "for fp in fingerprints :\n",
    "    for bit in fp.GetOnBits():\n",
    "        fpBitCount[bit]+=1\n",
    "        \n",
    "mostCommonBits = fpBitCount.most_common(10)\n",
    "labels = [i for i,j in mostCommonBits]\n",
    "values = [j for i,j in mostCommonBits]\n",
    "df_overview = pd.DataFrame(data=values\n",
    "                          ,index=labels)\n",
    "df_overview.plot(kind='bar')\n",
    "print(mostCommonBits)\n"
   ]
  },
  {
   "cell_type": "code",
   "execution_count": null,
   "metadata": {
    "collapsed": true
   },
   "outputs": [],
   "source": [
    "logger.removeHandler(ch)\n",
    "ch.close()"
   ]
  }
 ],
 "metadata": {
  "kernelspec": {
   "display_name": "Python [conda env:pubchem-sklearn]",
   "language": "python",
   "name": "conda-env-pubchem-sklearn-py"
  },
  "language_info": {
   "codemirror_mode": {
    "name": "ipython",
    "version": 3
   },
   "file_extension": ".py",
   "mimetype": "text/x-python",
   "name": "python",
   "nbconvert_exporter": "python",
   "pygments_lexer": "ipython3",
   "version": "3.6.1"
  }
 },
 "nbformat": 4,
 "nbformat_minor": 2
}
