{
 "cells": [
  {
   "cell_type": "markdown",
   "metadata": {},
   "source": [
    "## Overview ##\n",
    "\n",
    "PubChem is a site run by the NIH which hosts raw data associated with chemical experiments; here we analyze the data hosted at PubChem for assay 1030, which looks for inhibitors of the protein encoding gene ALDH1A1. You can access the page for this assay [here](https://pubchem.ncbi.nlm.nih.gov/bioassay/1030)\n",
    "\n",
    "## Results ##\n",
    "\n",
    "We use the SMILES string, a common representation for a molecule amongst chemists, to begin the featurization process. Because the length of this string varies, it is normalized in the form of a Morgan Fingerprint; these are then used to train various binary classifiers"
   ]
  },
  {
   "cell_type": "code",
   "execution_count": 13,
   "metadata": {
    "collapsed": true
   },
   "outputs": [],
   "source": [
    "# Exploratory data analysis and visualization"
   ]
  },
  {
   "cell_type": "code",
   "execution_count": 18,
   "metadata": {},
   "outputs": [
    {
     "name": "stderr",
     "output_type": "stream",
     "text": [
      "2017-09-24 10:06:00,515 - CRITICAL - Test\n",
      "2017-09-24 10:06:00,515 - CRITICAL - Test\n",
      "2017-09-24 10:06:00,515 - CRITICAL - Test\n",
      "2017-09-24 10:06:00,515 - CRITICAL - Test\n",
      "2017-09-24 10:06:00,515 - CRITICAL - Test\n",
      "2017-09-24 10:06:00,515 - CRITICAL - Test\n",
      "2017-09-24 10:06:00,515 - CRITICAL - Test\n"
     ]
    }
   ],
   "source": [
    "import pickle\n",
    "import numpy as np\n",
    "import pandas as pd\n",
    "from rdkit import Chem, DataStructs\n",
    "from rdkit.Chem import AllChem, rdMolDescriptors\n",
    "from sklearn.ensemble import RandomForestClassifier\n",
    "from imblearn.under_sampling import RandomUnderSampler\n",
    "from sklearn.metrics import roc_auc_score\n",
    "\n",
    "import warnings\n",
    "warnings.filterwarnings('ignore')\n",
    "\n",
    "global_random_state = 42\n",
    "k_fold_splits = 2\n",
    "\n",
    "np.random.seed(global_random_state)\n",
    "\n",
    "import logging\n",
    "logger = logging.getLogger()\n",
    "logger.setLevel(logging.DEBUG)\n",
    "\n",
    "formatter = logging.Formatter('%(asctime)s - %(levelname)s - %(message)s')\n",
    "\n",
    "class_weights: { 0: .1, 1: .9}\n",
    "\n",
    "fh = logging.FileHandler('log_sklearn_weighted.txt')\n",
    "fh.setLevel(logging.DEBUG)\n",
    "fh.setFormatter(formatter)\n",
    "logger.addHandler(fh)\n",
    "\n",
    "ch = logging.StreamHandler()\n",
    "ch.setLevel(logging.DEBUG)\n",
    "ch.setFormatter(formatter)\n",
    "logger.addHandler(ch)\n",
    "\n",
    "logger.critical(\"Test\")\n",
    "\n"
   ]
  },
  {
   "cell_type": "code",
   "execution_count": 15,
   "metadata": {},
   "outputs": [
    {
     "ename": "MemoryError",
     "evalue": "",
     "output_type": "error",
     "traceback": [
      "\u001b[0;31m---------------------------------------------------------------------------\u001b[0m",
      "\u001b[0;31mMemoryError\u001b[0m                               Traceback (most recent call last)",
      "\u001b[0;32m<ipython-input-15-cfc1ea32d205>\u001b[0m in \u001b[0;36m<module>\u001b[0;34m()\u001b[0m\n\u001b[1;32m     19\u001b[0m \u001b[0;32mwith\u001b[0m \u001b[0mopen\u001b[0m\u001b[0;34m(\u001b[0m\u001b[0;34m'data.classification.nonsampled.pickle'\u001b[0m\u001b[0;34m,\u001b[0m \u001b[0;34m'rb'\u001b[0m\u001b[0;34m)\u001b[0m \u001b[0;32mas\u001b[0m \u001b[0mf\u001b[0m\u001b[0;34m:\u001b[0m\u001b[0;34m\u001b[0m\u001b[0m\n\u001b[1;32m     20\u001b[0m     \u001b[0;31m# Pickle the 'data' dictionary using the highest protocol available.\u001b[0m\u001b[0;34m\u001b[0m\u001b[0;34m\u001b[0m\u001b[0m\n\u001b[0;32m---> 21\u001b[0;31m     \u001b[0;34m(\u001b[0m\u001b[0mX\u001b[0m\u001b[0;34m,\u001b[0m \u001b[0my\u001b[0m\u001b[0;34m)\u001b[0m \u001b[0;34m=\u001b[0m \u001b[0mpickle\u001b[0m\u001b[0;34m.\u001b[0m\u001b[0mload\u001b[0m\u001b[0;34m(\u001b[0m\u001b[0mf\u001b[0m\u001b[0;34m)\u001b[0m\u001b[0;34m\u001b[0m\u001b[0m\n\u001b[0m",
      "\u001b[0;31mMemoryError\u001b[0m: "
     ]
    }
   ],
   "source": [
    "# Setup imports\n",
    "\n",
    "from sklearn.tree import DecisionTreeClassifier\n",
    "from sklearn.ensemble import RandomForestClassifier\n",
    "from sklearn.model_selection import train_test_split\n",
    "from sklearn.metrics import classification_report\n",
    "from sklearn.model_selection import StratifiedKFold\n",
    "from sklearn.model_selection import cross_val_score\n",
    "from sklearn.cross_validation import cross_val_predict\n",
    "import pickle\n",
    "import numpy as np\n",
    "import pandas as pd\n",
    "from rdkit import Chem, DataStructs\n",
    "from rdkit.Chem import AllChem, rdMolDescriptors\n",
    "from collections import Counter\n",
    "\n",
    "global_random_state = 42\n",
    "\n",
    "with open('data.classification.nonsampled.pickle', 'rb') as f:\n",
    "    # Pickle the 'data' dictionary using the highest protocol available.\n",
    "    (X, y) = pickle.load(f)\n"
   ]
  },
  {
   "cell_type": "code",
   "execution_count": null,
   "metadata": {},
   "outputs": [],
   "source": [
    "skf = StratifiedKFold(n_splits=k_fold_splits,shuffle=True, random_state=global_random_state)\n",
    "\n",
    "roc_auc_avg = 0\n",
    "\n",
    "for train_index, test_index in skf.split(X,y) :\n",
    "\n",
    "    \n",
    "    X_train = X[train_index]\n",
    "    X_test = X[test_index]\n",
    "    y_train = y[train_index]\n",
    "    y_test = y[test_index]\n",
    "\n",
    "    classifier = DecisionTreeClassifier(random_state=global_random_state,class_weight=class_weights)\n",
    "    classifier.fit(X_train,y_train)\n",
    "    y_pred = classifier.predict(X_test)\n",
    "    auc = roc_auc_score(y_test, y_pred, average='weighted', sample_weight=None)\n",
    "    logger.info(\"Computed roc_auc score of: {}\".format(auc))\n",
    "    logger.info(classification_report(y_test, y_pred))\n",
    "    roc_auc_avg = roc_auc_avg + auc\n",
    "    \n",
    "roc_auc_avg = roc_auc_avg / k_fold_splits\n",
    "logger.info(\"Average roc_auc score is: {}\".format(roc_auc_avg))\n",
    "\n",
    "\n",
    "# Note: Unfortunately it's not directly comparable to ROC_AUC calculated in MoleculeNet at: https://arxiv.org/pdf/1703.00564.pdf \n",
    "# This is because MoleculeNet looks at a different metric (roc_auc) and also a different task (multiclass prediction across 128 bioassays simultaneously vs binary classification here)"
   ]
  },
  {
   "cell_type": "code",
   "execution_count": null,
   "metadata": {
    "collapsed": true
   },
   "outputs": [],
   "source": [
    "# Does an MLP classifier help?\n",
    "\n",
    "from sklearn.neural_network import MLPClassifier\n",
    "\n",
    "skf = StratifiedKFold(n_splits=k_fold_splits,shuffle=True,random_state=global_random_state)\n",
    "\n",
    "roc_auc_avg = 0\n",
    "\n",
    "for train_index, test_index in skf.split(X,y) :\n",
    "\n",
    "    \n",
    "    X_train = X[train_index]\n",
    "    X_test = X[test_index]\n",
    "    y_train = y[train_index]\n",
    "    y_test = y[test_index]\n",
    "\n",
    "    classifier = MLPClassifier(random_state=global_random_state,class_weight=class_weights)\n",
    "    classifier.fit(X_train,y_train)\n",
    "    y_pred = classifier.predict(X_test)\n",
    "    auc = roc_auc_score(y_test, y_pred, average='weighted', sample_weight=None)\n",
    "    logger.info(\"Computed roc_auc score of: {}\".format(auc))\n",
    "    logger.info(classification_report(y_test, y_pred))\n",
    "    roc_auc_avg = roc_auc_avg + auc\n",
    "    \n",
    "roc_auc_avg = roc_auc_avg / k_fold_splits\n",
    "logger.info(\"Average roc_auc score is: {}\".format(roc_auc_avg))\n",
    "\n"
   ]
  },
  {
   "cell_type": "code",
   "execution_count": null,
   "metadata": {
    "collapsed": true
   },
   "outputs": [],
   "source": [
    "# Let's try using a Random forest\n",
    "\n",
    "skf = StratifiedKFold(n_splits=k_fold_splits,shuffle=True,random_state=global_random_state)\n",
    "\n",
    "roc_auc_avg = 0\n",
    "\n",
    "for train_index, test_index in skf.split(X,y) :\n",
    "\n",
    "    \n",
    "    X_train = X[train_index]\n",
    "    X_test = X[test_index]\n",
    "    y_train = y[train_index]\n",
    "    y_test = y[test_index]\n",
    "\n",
    "    classifier = RandomForestClassifier(n_estimators=100, class_weight=class_weights, random_state=global_random_state, n_jobs=-1)\n",
    "    classifier.fit(X_train,y_train)\n",
    "    y_pred = classifier.predict(X_test)\n",
    "    auc = roc_auc_score(y_test, y_pred, average='weighted', sample_weight=None)\n",
    "    logger.info(\"Computed roc_auc score of: {}\".format(auc))\n",
    "    logger.info(classification_report(y_test, y_pred))\n",
    "    roc_auc_avg = roc_auc_avg + auc\n",
    "    \n",
    "roc_auc_avg = roc_auc_avg / k_fold_splits\n",
    "logger.info(\"Average roc_auc score is: {}\".format(roc_auc_avg))"
   ]
  },
  {
   "cell_type": "code",
   "execution_count": null,
   "metadata": {
    "collapsed": true
   },
   "outputs": [],
   "source": []
  }
 ],
 "metadata": {
  "kernelspec": {
   "display_name": "Python [conda env:pubchem-sklearn]",
   "language": "python",
   "name": "conda-env-pubchem-sklearn-py"
  },
  "language_info": {
   "codemirror_mode": {
    "name": "ipython",
    "version": 3
   },
   "file_extension": ".py",
   "mimetype": "text/x-python",
   "name": "python",
   "nbconvert_exporter": "python",
   "pygments_lexer": "ipython3",
   "version": "3.6.1"
  }
 },
 "nbformat": 4,
 "nbformat_minor": 2
}
