{
 "cells": [
  {
   "cell_type": "markdown",
   "metadata": {},
   "source": [
    "## Overview ##\n",
    "\n",
    "PubChem is a site run by the NIH which hosts raw data associated with chemical experiments; here we analyze the data hosted at PubChem for assay 1030, which looks for inhibitors of the protein encoding gene ALDH1A1. You can access the page for this assay [here](https://pubchem.ncbi.nlm.nih.gov/bioassay/1030)\n",
    "\n",
    "## Results ##\n",
    "\n",
    "We use the SMILES string, a common representation for a molecule amongst chemists, to begin the featurization process. Because the length of this string varies, it is normalized in the form of a Morgan Fingerprint; these are then used to train various binary classifiers"
   ]
  },
  {
   "cell_type": "code",
   "execution_count": null,
   "metadata": {
    "collapsed": true
   },
   "outputs": [],
   "source": [
    "# Exploratory data analysis (regression)"
   ]
  },
  {
   "cell_type": "code",
   "execution_count": 4,
   "metadata": {
    "collapsed": true
   },
   "outputs": [],
   "source": [
    "import pickle\n",
    "import numpy as np\n",
    "import pandas as pd\n",
    "from rdkit import Chem, DataStructs\n",
    "from rdkit.Chem import AllChem, rdMolDescriptors\n",
    "from sklearn.ensemble import RandomForestClassifier\n",
    "from imblearn.under_sampling import RandomUnderSampler\n",
    "from sklearn.metrics import roc_auc_score\n",
    "from sklearn.model_selection import StratifiedKFold\n",
    "\n",
    "import warnings\n",
    "warnings.filterwarnings('ignore')\n",
    "\n",
    "global_random_state = 42\n",
    "k_fold_splits = 2\n",
    "\n",
    "np.random.seed(global_random_state)\n",
    "\n",
    "\n",
    "active_pct = 0.073125471\n",
    "inactive_pct = 1 - active_pct\n",
    "\n",
    "# We set the inactive to have the weight of the active, and vice versa, to account for imbalance\n",
    "class_weights = { 0: active_pct, 1: inactive_pct }"
   ]
  },
  {
   "cell_type": "code",
   "execution_count": null,
   "metadata": {},
   "outputs": [
    {
     "name": "stdout",
     "output_type": "stream",
     "text": [
      "Processed index: 0\n",
      "Processed index: 10000\n",
      "Processed index: 20000\n",
      "Processed index: 30000\n",
      "Processed index: 40000\n",
      "Processed index: 50000\n",
      "Processed index: 60000\n",
      "Processed index: 70000\n",
      "Processed index: 80000\n",
      "Processed index: 90000\n",
      "Processed index: 100000\n",
      "Processed index: 110000\n"
     ]
    }
   ],
   "source": [
    "# Load assay info. Note: This CSV was obtained from PubChem bioassay aka PCBA, via searching for AID 1030 \n",
    "# and downloading the datatable\n",
    "\n",
    "ba_df = pd.read_csv(\"AID_1030_datatable_all.csv\")\n",
    "\n",
    "# Load compound info\n",
    "cs_df = pd.read_csv(\"AID_1030_compound_smiles.csv\",sep='\\t',header=0)\n",
    "\n",
    "# Merge the two\n",
    "full_df = ba_df.merge(cs_df,on='PUBCHEM_CID')\n",
    "\n",
    "# Cleanup the compound ID column\n",
    "full_df[\"PUBCHEM_CID\"] = full_df[\"PUBCHEM_CID\"].astype(int)\n",
    "full_df[\"PUBCHEM_ACTIVITY_SCORE\"] = full_df[\"PUBCHEM_ACTIVITY_SCORE\"].astype(int)\n",
    "\n",
    "# Normalize pubchem activity score to 0...1\n",
    "full_df[\"PUBCHEM_ACTIVITY_SCORE\"] = full_df[\"PUBCHEM_ACTIVITY_SCORE\"] / 100\n",
    "\n",
    "\n",
    "compound_ids = list()\n",
    "smiles_list = list()\n",
    "fingerprints = list()\n",
    "activities = list()\n",
    "\n",
    "#fingerprint_df = \n",
    "\n",
    "for index, row in full_df.iterrows() :\n",
    "    cid = row[\"PUBCHEM_CID\"]\n",
    "    smiles_string = row[\"Smiles\"]\n",
    "    mol = Chem.MolFromSmiles(smiles_string)\n",
    "    is_active = row[\"PUBCHEM_ACTIVITY_OUTCOME\"] == \"Active\"\n",
    "    activity_score = row[\"PUBCHEM_ACTIVITY_SCORE\"]\n",
    "    if mol is None:\n",
    "        print(\"Molecule failed featurization\")\n",
    "        print(index)\n",
    "    else: \n",
    "        fingerprint = rdMolDescriptors.GetMorganFingerprintAsBitVect(mol,2,nBits=2048,useChirality=False,\n",
    "                                                                     useBondTypes=False,useFeatures=False)\n",
    "        \n",
    "        # From RDKit documentation\n",
    "        arr = np.zeros((1,))\n",
    "        DataStructs.ConvertToNumpyArray(fingerprint, arr)\n",
    "        fingerprint = arr\n",
    "        \n",
    "        compound_ids.append(cid)\n",
    "        smiles_list.append(smiles_string)\n",
    "        fingerprints.append(fingerprint)\n",
    "        activities.append(activity_score)\n",
    "    \n",
    "    if index % 10000 == 0:\n",
    "        print(\"Processed index: {0}\".format(index))\n",
    "\n",
    "# Convert activities to np array of ints\n",
    "\n",
    "X = np.array(fingerprints)\n",
    "y = np.array(activities,dtype=float)\n",
    "\n",
    "print(X[0:10])\n",
    "print(y[0:10])\n",
    "\n",
    "# Pickle the data to save time in the future\n",
    "with open('data.regression.undersampled.pickle', 'wb') as f:\n",
    "    pickle.dump((X,y), f, pickle.HIGHEST_PROTOCOL)\n"
   ]
  },
  {
   "cell_type": "code",
   "execution_count": null,
   "metadata": {},
   "outputs": [],
   "source": [
    "from sklearn.tree import DecisionTreeClassifier\n",
    "from sklearn.ensemble import RandomForestClassifier\n",
    "from sklearn.model_selection import train_test_split\n",
    "from sklearn.metrics import mean_squared_error\n",
    "from sklearn.model_selection import KFold\n",
    "from sklearn.model_selection import cross_val_score\n",
    "from sklearn.cross_validation import cross_val_predict\n",
    "import pickle\n",
    "import numpy as np\n",
    "import pandas as pd\n",
    "from rdkit import Chem, DataStructs\n",
    "from rdkit.Chem import AllChem, rdMolDescriptors\n",
    "from collections import Counter\n",
    "from sklearn.tree import DecisionTreeRegressor\n",
    "\n",
    "smiles_list = None\n",
    "compound_ids = None\n",
    "fingerprints = None\n",
    "activities = None\n",
    "\n",
    "global_random_state = 42\n",
    "\n",
    "with open('data.regression.undersampled.pickle', 'rb') as f:\n",
    "    # Pickle the 'data' dictionary using the highest protocol available.\n",
    "    (X, y) = pickle.load(f)\n",
    "\n",
    "# Print the number of compounds loaded\n",
    "print(\"Successfully loaded {0} compounds.\".format(len(X)))\n",
    "\n",
    "#print(X.shape)\n",
    "#print(y.shape)\n",
    "\n",
    "#X = np.reshape(X,(len(X),))\n",
    "#y = np.reshape(y,(len(y),))\n",
    "\n",
    "# Create a train/test split\n",
    "\n",
    "kf = KFold(n_splits=k_fold_splits,shuffle=True,random_state=global_random_state)\n",
    "\n",
    "mse_avg = 0\n",
    "\n",
    "for train_index, test_index in kf.split(X,y) :\n",
    "\n",
    "    X_train = X[train_index]\n",
    "    X_test = X[test_index]\n",
    "    y_train = y[train_index]\n",
    "    y_test = y[test_index]\n",
    "    \n",
    "    print(X_train[0:10])\n",
    "    print(y_train[0:10])\n",
    "\n",
    "    classifier = DecisionTreeRegressor(random_state=global_random_state)\n",
    "    classifier.fit(X_train,y_train)\n",
    "    y_pred = classifier.predict(X_test)\n",
    "    mse = mean_squared_error(y_test, y_pred)\n",
    "    print(\"Computed mse score of: {}\".format(mse))\n",
    "    print(classification_report(y_test, y_pred))\n",
    "    mse_avg = mse_avg + mse\n",
    "    \n",
    "    y_pred_binary = y_pred > .4\n",
    "\n",
    "    print(y_pred_binary[0:100])\n",
    "\n",
    "    y_test_binary = y_test[0:] > .4\n",
    "\n",
    "    print(y_test_binary[0:100])\n",
    "\n",
    "    print(\"How good is it as a classifier?\")\n",
    "    print(classification_report(y_test_binary, y_pred_binary))\n",
    "    \n",
    "mse_avg = mse_avg / k_fold_splits\n",
    "print(\"Average mse score is: {}\".format(mse_avg))\n",
    "\n",
    "# Note: Unfortunately it's not directly comparable to ROC_AUC calculated in MoleculeNet at: https://arxiv.org/pdf/1703.00564.pdf \n",
    "# This is because MoleculeNet looks at a different metric (roc_auc) and also a different task (multiclass prediction across 128 bioassays simultaneously vs binary classification here)"
   ]
  },
  {
   "cell_type": "code",
   "execution_count": 2,
   "metadata": {},
   "outputs": [
    {
     "name": "stderr",
     "output_type": "stream",
     "text": [
      "Using TensorFlow backend.\n"
     ]
    },
    {
     "name": "stdout",
     "output_type": "stream",
     "text": [
      "tensorflow\n"
     ]
    }
   ],
   "source": [
    "import keras\n",
    "print(keras.backend.backend())"
   ]
  },
  {
   "cell_type": "code",
   "execution_count": null,
   "metadata": {
    "collapsed": true
   },
   "outputs": [],
   "source": [
    "# What about a deep neural network?\n",
    "# Sample code from: https://machinelearningmastery.com/tutorial-first-neural-network-python-keras/\n",
    "\n",
    "from keras.models import Sequential\n",
    "from keras.layers import Dense\n",
    "from keras import metrics\n",
    "from keras.wrappers.scikit_learn import KerasClassifier\n",
    "from sklearn.model_selection import StratifiedKFold\n",
    "from sklearn.model_selection import cross_val_score\n",
    "\n",
    "\n",
    "global_random_state = 42\n",
    "\n",
    "with open('data.regression.undersampled.pickle', 'rb') as f:\n",
    "    # Pickle the 'data' dictionary using the highest protocol available.\n",
    "    (compound_ids, smiles_list, fingerprints, activities) = pickle.load(f)\n",
    "\n",
    "def create_model() :\n",
    "    model = Sequential()\n",
    "    model.add(Dense(12, input_dim=2048, activation='relu'))\n",
    "    model.add(Dense(8, activation='relu'))\n",
    "    model.add(Dense(1, activation='sigmoid'))\n",
    "    model.compile(loss='binary_crossentropy', optimizer='adam', metrics=[metrics.binary_accuracy])\n",
    "    return model\n",
    "\n",
    "model = KerasClassifier(build_fn=create_model, epochs=10, batch_size=1, verbose=1)\n",
    "kfold = StratifiedKFold(n_splits=k_fold_splits, shuffle=True, random_state=global_random_state)\n",
    "results = cross_val_score(model, fingerprints, activities, cv=k_fold_splits)\n",
    "print(results.mean())\n",
    "\n",
    "y_pred = cross_val_predict(classifier, fingerprints, activities, cv=k_fold_splits)\n",
    "\n",
    "print(classification_report(activities, y_pred))"
   ]
  },
  {
   "cell_type": "code",
   "execution_count": null,
   "metadata": {
    "collapsed": true
   },
   "outputs": [],
   "source": [
    "y_pred = model.predict_on_batch(X_test)\n",
    "y_pred_binarized = y_pred[0:] > .5\n",
    "print(classification_report(y_test, y_pred_binarized))\n"
   ]
  },
  {
   "cell_type": "code",
   "execution_count": null,
   "metadata": {
    "collapsed": true
   },
   "outputs": [],
   "source": [
    "# What about a larger network size?\n",
    "from keras.models import Sequential\n",
    "from keras.layers import Dense\n",
    "from keras import metrics\n",
    "\n",
    "model = Sequential()\n",
    "model.add(Dense(1024, input_dim=2048, activation='relu'))\n",
    "model.add(Dense(512, activation='relu'))\n",
    "model.add(Dense(1, activation='sigmoid'))\n",
    "model.compile(loss='binary_crossentropy', optimizer='adam', metrics=[metrics.binary_accuracy])\n",
    "\n",
    "model.fit(X_train, y_train_, epochs=10, batch_size=1)\n",
    "\n",
    "score = model.evaluate(X_test, y_test_binary)\n",
    "\n",
    "print(\"\\n Loss on test set is: {0}\".format(score))\n",
    "\n",
    "# let's save it for future experimentation\n",
    "model.save(\"pcba_1030_large_nn.h5\")"
   ]
  },
  {
   "cell_type": "code",
   "execution_count": null,
   "metadata": {
    "collapsed": true
   },
   "outputs": [],
   "source": [
    "from keras.models import load_model\n",
    "model_large = load_model(\"pcba_1030_large_nn.h5\")\n",
    "y_pred = model_large.predict_on_batch(X_test)\n",
    "y_pred_binarized = y_pred[0:] > .5\n",
    "print(classification_report(y_test, y_pred_binarized))"
   ]
  },
  {
   "cell_type": "code",
   "execution_count": null,
   "metadata": {
    "collapsed": true
   },
   "outputs": [],
   "source": [
    "# Does an MLP classifier help?\n",
    "# Answer: Nope, not really\n",
    "\n",
    "from sklearn.neural_network import MLPClassifier\n",
    "\n",
    "classifier = MLPClassifier(random_state=global_random_state,class_weight=class_weights)\n",
    "\n",
    "# Note: This may take 5-10 minutes to run\n",
    "classifier.fit(X_train,y_train)\n",
    "\n",
    "# We have the 'ground truth' of which of the held-out 33% of the data was really bioactive. But can we predict it?\n",
    "# If we could, we could predict which compounds might be bioactive without having to actually test them in a lab\n",
    "\n",
    "score = classifier.score(X_test,y_test)\n",
    "\n",
    "print(\"Classifier obtained a mean accuracy score of: {0}\".format(score))\n",
    "\n",
    "y_pred = classifier.predict(X_test)\n",
    "\n",
    "print(classification_report(y_test, y_pred))\n",
    "\n"
   ]
  },
  {
   "cell_type": "code",
   "execution_count": 5,
   "metadata": {},
   "outputs": [
    {
     "name": "stderr",
     "output_type": "stream",
     "text": [
      "/home/joe/anaconda3/envs/pubchem-sklearn/lib/python3.6/site-packages/IPython/core/interactiveshell.py:2717: DtypeWarning: Columns (0,8,9,12,13,14,15,16,17,19,20,21,22,23,24,25,26,27,28,29,30,31,32,33,34,35,36,37,38,39,40,41,42,43,44,45) have mixed types. Specify dtype option on import or set low_memory=False.\n",
      "  interactivity=interactivity, compiler=compiler, result=result)\n"
     ]
    }
   ],
   "source": [
    "# What if we train directly on the full (unbalanced) dataset and also set radius of 1?\n",
    "\n",
    "import pandas as pd\n",
    "import numpy as np\n",
    "from collections import Counter\n",
    "\n",
    "import pickle\n",
    "\n",
    "from rdkit import Chem, DataStructs\n",
    "from rdkit.Chem import AllChem, rdMolDescriptors\n",
    "from sklearn.metrics import classification_report\n",
    "from sklearn.model_selection import train_test_split\n",
    "from collections import Counter\n",
    "\n",
    "\n",
    "ba_df = pd.read_csv(\"AID_1030_datatable_all.csv\")\n",
    "\n",
    "# Load compound info\n",
    "cs_df = pd.read_csv(\"AID_1030_compound_smiles.csv\",sep='\\t',header=0)\n",
    "\n",
    "# Merge the two\n",
    "full_df = ba_df.merge(cs_df,on='PUBCHEM_CID')\n",
    "\n",
    "# Cleanup the compound ID column\n",
    "full_df[\"PUBCHEM_CID\"] = full_df[\"PUBCHEM_CID\"].astype(int)\n",
    "\n",
    "full_df[\"Active\"] = full_df[\"PUBCHEM_ACTIVITY_OUTCOME\"] == True\n",
    "\n",
    "\n",
    "compound_ids = list()\n",
    "smiles_list = list()\n",
    "fingerprints = list()\n",
    "activities = list()\n",
    "\n",
    "for index, row in full_df.iterrows() :\n",
    "    cid = row[\"PUBCHEM_CID\"]\n",
    "    smiles_string = row[\"Smiles\"]\n",
    "    mol = Chem.MolFromSmiles(smiles_string)\n",
    "    is_active = row[\"PUBCHEM_ACTIVITY_OUTCOME\"] == \"Active\"\n",
    "    if mol is not None: \n",
    "        fingerprint = rdMolDescriptors.GetMorganFingerprintAsBitVect(mol,1,nBits=4096,useChirality=True,\n",
    "                                                                     useBondTypes=True,useFeatures=True)\n",
    "        \n",
    "        # From RDKit documentation\n",
    "        arr = np.zeros((1,))\n",
    "        DataStructs.ConvertToNumpyArray(fingerprint, arr)\n",
    "        fingerprint = arr\n",
    "        \n",
    "        compound_ids.append(cid)\n",
    "        smiles_list.append(smiles_string)\n",
    "        fingerprints.append(fingerprint)\n",
    "        activities.append(is_active)\n",
    "\n"
   ]
  },
  {
   "cell_type": "code",
   "execution_count": 4,
   "metadata": {
    "collapsed": true
   },
   "outputs": [],
   "source": [
    "import pickle\n",
    "\n",
    "compound_ids_and_features = (compound_ids, smiles_list, fingerprints, activities)\n",
    "\n",
    "# Pickle the data to save time in the future\n",
    "with open('data_large.pickle', 'wb') as f:\n",
    "    pickle.dump(compound_ids_and_features, f, pickle.HIGHEST_PROTOCOL)\n",
    "        "
   ]
  },
  {
   "cell_type": "code",
   "execution_count": null,
   "metadata": {
    "collapsed": true
   },
   "outputs": [],
   "source": [
    "# Let's try using a Random forest\n",
    "\n",
    "classifier = RandomForestClassifier(n_estimators=100, random_state=global_random_state, n_jobs=-1)\n",
    "\n",
    "# Note: This may take 5-10 minutes to run\n",
    "classifier.fit(X_train,y_train)\n",
    "\n",
    "# We have the 'ground truth' of which of the held-out 33% of the data was really bioactive. But can we predict it?\n",
    "# If we could, we could predict which compounds might be bioactive without having to actually test them in a lab\n",
    "\n",
    "score = classifier.score(X_test,y_test, class_weight=class_weights)\n",
    "\n",
    "print(\"Classifier obtained a mean accuracy score of: {0}\".format(score))\n",
    "\n",
    "y_pred = classifier.predict(X_test)\n",
    "\n",
    "print(classification_report(y_test, y_pred))\n"
   ]
  },
  {
   "cell_type": "code",
   "execution_count": 1,
   "metadata": {},
   "outputs": [
    {
     "name": "stdout",
     "output_type": "stream",
     "text": [
      "Data loaded\n"
     ]
    }
   ],
   "source": [
    "import pickle\n",
    "with open('data_large.pickle', 'rb') as f:\n",
    "    # Pickle the 'data' dictionary using the highest protocol available.\n",
    "    (compound_ids, smiles_list, fingerprints, activities) = pickle.load(f)\n",
    "\n",
    "print(\"Data loaded\")\n"
   ]
  },
  {
   "cell_type": "code",
   "execution_count": null,
   "metadata": {},
   "outputs": [
    {
     "name": "stdout",
     "output_type": "stream",
     "text": [
      "147643\n",
      "2048\n",
      "0\n",
      "Epoch 1/5\n",
      "  2702/147643 [..............................] - ETA: 579s - loss: 1.8638 - binary_accuracy: 0.6029"
     ]
    }
   ],
   "source": [
    "# What about a larger network size, and setting class weights?\n",
    "from keras.models import Sequential\n",
    "from keras.layers import Dense\n",
    "from keras import metrics\n",
    "import pickle\n",
    "from sklearn.utils import class_weight\n",
    "from sklearn.metrics import classification_report\n",
    "from sklearn.model_selection import train_test_split\n",
    "import numpy as np\n",
    "import pandas as pd\n",
    "from imblearn.under_sampling import RandomUnderSampler\n",
    "\n",
    "\n",
    "global_random_state = 42\n",
    "\n",
    "#activity_outcomes = pd.Series(activities).astype(bool)\n",
    "\n",
    "#X_train, X_test, y_train, y_test = train_test_split(np.array(fingerprints), np.array(activities, dtype=int), test_size=0.33, random_state=global_random_state)\n",
    "\n",
    "active_pct = 0.073125471\n",
    "inactive_pct = 1 - active_pct\n",
    "\n",
    "# We set the inactive to have the weight of the active, and vice versa, to account for imbalance\n",
    "class_weights = { 0: active_pct, 1: inactive_pct }\n",
    "\n",
    "print(len(X_train))\n",
    "print(len(X_train[0]))\n",
    "print(y_train[0])\n",
    "\n",
    "#y_train_binary = np.array(y_train,dtype=np.bool)\n",
    "#y_test_binary = np.array(y_test,dtype=np.bool)\n",
    "\n",
    "\n",
    "model = Sequential()\n",
    "model.add(Dense(2048, input_dim=2048, activation='relu'))\n",
    "model.add(Dense(512, activation='relu'))\n",
    "model.add(Dense(256, activation='relu'))\n",
    "model.add(Dense(1, activation='sigmoid'))\n",
    "model.compile(loss='binary_crossentropy', optimizer='adam', metrics=[metrics.binary_accuracy])\n",
    "model.fit(X_train, y_train, epochs=10, batch_size=1, class_weight=class_weights)\n",
    "\n",
    "score = model.evaluate(X_test, y_test)\n",
    "\n",
    "print(\"\\n Loss on test set is: {0}\".format(score))\n",
    "\n",
    "# let's save it for future experimentation\n",
    "model.save(\"pcba_1030_large_nn.h5\")\n",
    "\n",
    "y_pred = model.predict_on_batch(X_test)\n",
    "y_pred_binarized = y_pred[0:] > .6\n",
    "print(classification_report(y_test, y_pred_binarized))"
   ]
  },
  {
   "cell_type": "code",
   "execution_count": null,
   "metadata": {
    "collapsed": true
   },
   "outputs": [],
   "source": [
    "# What about a larger network size, and setting class weights?\n",
    "from keras.models import Sequential\n",
    "from keras.layers import Dense\n",
    "from keras import metrics\n",
    "import pickle\n",
    "from sklearn.utils import class_weight\n",
    "from sklearn.metrics import classification_report\n",
    "from sklearn.model_selection import train_test_split\n",
    "import numpy as np\n",
    "import pandas as pd\n",
    "from imblearn.under_sampling import RandomUnderSampler\n",
    "\n",
    "\n",
    "global_random_state = 42\n",
    "\n",
    "#activity_outcomes = pd.Series(activities).astype(bool)\n",
    "\n",
    "#X_train, X_test, y_train, y_test = train_test_split(np.array(fingerprints), np.array(activities, dtype=int), test_size=0.33, random_state=global_random_state)\n",
    "\n",
    "active_pct = 0.073125471\n",
    "inactive_pct = 1 - active_pct\n",
    "\n",
    "# We set the inactive to have the weight of the active, and vice versa, to account for imbalance\n",
    "class_weights = { 0: active_pct, 1: inactive_pct }\n",
    "\n",
    "print(len(X_train))\n",
    "print(len(X_train[0]))\n",
    "print(y_train[0])\n",
    "\n",
    "#y_train_binary = np.array(y_train,dtype=np.bool)\n",
    "#y_test_binary = np.array(y_test,dtype=np.bool)\n",
    "\n",
    "\n",
    "model = Sequential()\n",
    "model.add(Dense(2048, input_dim=2048, activation='relu'))\n",
    "model.add(Dense(512, activation='relu'))\n",
    "model.add(Dense(256, activation='relu'))\n",
    "model.add(Dense(1, activation='sigmoid'))\n",
    "model.compile(loss='binary_crossentropy', optimizer='adam', metrics=[metrics.binary_accuracy])\n",
    "model.fit(X_train, y_train, epochs=10, batch_size=1, class_weight=class_weights)\n",
    "\n",
    "score = model.evaluate(X_test, y_test)\n",
    "\n",
    "print(\"\\n Loss on test set is: {0}\".format(score))\n",
    "\n",
    "# let's save it for future experimentation\n",
    "model.save(\"pcba_1030_large_nn.h5\")\n",
    "\n",
    "y_pred = model.predict_on_batch(X_test)\n",
    "y_pred_binarized = y_pred[0:] > .6\n",
    "print(classification_report(y_test, y_pred_binarized))"
   ]
  },
  {
   "cell_type": "code",
   "execution_count": 9,
   "metadata": {},
   "outputs": [
    {
     "name": "stdout",
     "output_type": "stream",
     "text": [
      "             precision    recall  f1-score   support\n",
      "\n",
      "          0       0.96      0.83      0.89     67409\n",
      "          1       0.20      0.54      0.30      5312\n",
      "\n",
      "avg / total       0.90      0.81      0.85     72721\n",
      "\n"
     ]
    }
   ],
   "source": [
    "y_pred = model.predict_on_batch(X_test)\n",
    "y_pred_binarized = y_pred[0:] > .4\n",
    "print(classification_report(y_test, y_pred_binarized))"
   ]
  },
  {
   "cell_type": "code",
   "execution_count": 2,
   "metadata": {},
   "outputs": [
    {
     "name": "stdout",
     "output_type": "stream",
     "text": [
      "[(False, 16111), (True, 16111)]\n"
     ]
    },
    {
     "ename": "AttributeError",
     "evalue": "'numpy.ndarray' object has no attribute 'head'",
     "output_type": "error",
     "traceback": [
      "\u001b[0;31m---------------------------------------------------------------------------\u001b[0m",
      "\u001b[0;31mAttributeError\u001b[0m                            Traceback (most recent call last)",
      "\u001b[0;32m<ipython-input-2-3b0fab6c0ae7>\u001b[0m in \u001b[0;36m<module>\u001b[0;34m()\u001b[0m\n\u001b[1;32m     13\u001b[0m                                                     y_resampled, test_size=0.33, random_state=global_random_state)\n\u001b[1;32m     14\u001b[0m \u001b[0;34m\u001b[0m\u001b[0m\n\u001b[0;32m---> 15\u001b[0;31m \u001b[0mprint\u001b[0m\u001b[0;34m(\u001b[0m\u001b[0mX_train\u001b[0m\u001b[0;34m.\u001b[0m\u001b[0mhead\u001b[0m\u001b[0;34m(\u001b[0m\u001b[0;34m)\u001b[0m\u001b[0;34m)\u001b[0m\u001b[0;34m\u001b[0m\u001b[0m\n\u001b[0m\u001b[1;32m     16\u001b[0m \u001b[0mprint\u001b[0m\u001b[0;34m(\u001b[0m\u001b[0my_train\u001b[0m\u001b[0;34m.\u001b[0m\u001b[0mhead\u001b[0m\u001b[0;34m(\u001b[0m\u001b[0;34m)\u001b[0m\u001b[0;34m)\u001b[0m\u001b[0;34m\u001b[0m\u001b[0m\n\u001b[1;32m     17\u001b[0m \u001b[0;34m\u001b[0m\u001b[0m\n",
      "\u001b[0;31mAttributeError\u001b[0m: 'numpy.ndarray' object has no attribute 'head'"
     ]
    }
   ],
   "source": [
    "# Correctly balance the classes\n",
    "import sklearn\n",
    "from imblearn.over_sampling import RandomOverSampler\n",
    "\n",
    "global_random_state = 42\n",
    "#rus = RandomUnderSampler(random_state=global_random_state)\n",
    "X_resampled, y_resampled = ros.fit_sample(fingerprints, activities)\n",
    "\n",
    "#print(sorted(Counter(y_resampled).items()))\n",
    "\n",
    "\n",
    "#X_train, X_test, y_train, y_test = train_test_split(X_resampled, \n",
    "                                                    y_resampled, test_size=0.33, random_state=global_random_state)\n",
    "\n",
    "#print(X_train.head())\n",
    "#print(y_train.head())\n",
    "\n",
    "print(len(X_train))\n",
    "print(len(y_train))\n",
    "\n",
    "classifier = RandomForestClassifier(n_estimators=100, random_state=global_random_state, n_jobs=-1)\n",
    "\n",
    "# Note: This may take 5-10 minutes to run\n",
    "classifier.fit(X_train,y_train)\n",
    "\n",
    "# We have the 'ground truth' of which of the held-out 33% of the data was really bioactive. But can we predict it?\n",
    "# If we could, we could predict which compounds might be bioactive without having to actually test them in a lab\n",
    "\n",
    "score = classifier.score(X_test,y_test)\n",
    "\n",
    "print(\"Classifier obtained a mean accuracy score of: {0}\".format(score))\n",
    "\n",
    "y_pred = classifier.predict(X_test)\n",
    "\n",
    "print(classification_report(y_test, y_pred))\n"
   ]
  },
  {
   "cell_type": "code",
   "execution_count": null,
   "metadata": {
    "collapsed": true
   },
   "outputs": [],
   "source": []
  },
  {
   "cell_type": "markdown",
   "metadata": {},
   "source": [
    "#### "
   ]
  },
  {
   "cell_type": "code",
   "execution_count": 1,
   "metadata": {},
   "outputs": [
    {
     "name": "stdout",
     "output_type": "stream",
     "text": [
      "Successfully loaded 220364 compounds.\n",
      "Sample ID: 6603008\n",
      "Sample fingerprint vector: [ 0.  0.  0. ...,  0.  0.  0.]\n",
      "Was it bioactive? Assay returned: False\n",
      "[(False, 204253), (True, 16111)]\n"
     ]
    }
   ],
   "source": [
    "# Let's try again. We duplicate imports in case starting from this cell\n",
    "\n",
    "import pickle\n",
    "import numpy as np\n",
    "import pandas as pd\n",
    "from rdkit import Chem, DataStructs\n",
    "from rdkit.Chem import AllChem, rdMolDescriptors\n",
    "from sklearn.metrics import classification_report\n",
    "from sklearn.model_selection import train_test_split\n",
    "from imblearn.under_sampling import RandomUnderSampler\n",
    "from imblearn.over_sampling import RandomOverSampler\n",
    "from collections import Counter\n",
    "\n",
    "smiles_list = None\n",
    "compound_ids = None\n",
    "fingerprints = None\n",
    "activities = None\n",
    "\n",
    "global_random_state = 42\n",
    "\n",
    "with open('data.pickle', 'rb') as f:\n",
    "    # Pickle the 'data' dictionary using the highest protocol available.\n",
    "    (compound_ids, smiles_list, fingerprints, activities) = pickle.load(f)\n",
    "\n",
    "# Print the number of compounds loaded\n",
    "print(\"Successfully loaded {0} compounds.\".format(len(compound_ids)))\n",
    "\n",
    "# Show an example of the raw data\n",
    "print(\"Sample ID: {0}\".format(compound_ids[0]))\n",
    "print(\"Sample fingerprint vector: {0}\".format(fingerprints[0]))\n",
    "print(\"Was it bioactive? Assay returned: {0}\".format(activities[0]))\n",
    "\n",
    "# Correctly balance the classes\n",
    "\n",
    "undersample = False\n",
    "oversample = False\n",
    "if undersample :\n",
    "    rus = RandomUnderSampler(random_state=global_random_state)\n",
    "    X_resampled, y_resampled = rus.fit_sample(fingerprints, activities)\n",
    "elif oversample :\n",
    "    ros = RandomOverSampler(random_state=global_random_state)\n",
    "    X_resampled, y_resampled = rus.fit_sample(fingerprints, activities) \n",
    "else :\n",
    "    X_resampled = fingerprints\n",
    "    y_resampled = activities\n",
    "    \n",
    "print(sorted(Counter(y_resampled).items()))\n",
    "\n",
    "X_train, X_test, y_train, y_test = train_test_split(np.array(X_resampled), np.array(y_resampled, dtype=int), test_size=0.33, random_state=global_random_state)"
   ]
  },
  {
   "cell_type": "code",
   "execution_count": null,
   "metadata": {
    "collapsed": true,
    "scrolled": true
   },
   "outputs": [],
   "source": [
    "# Create a new train/test split based on resampled data\n",
    "\n",
    "classifier = DecisionTreeClassifier(random_state=global_random_state)\n",
    "\n",
    "# Note: This may take 5-10 minutes to run\n",
    "classifier.fit(X_train,y_train)\n",
    "\n",
    "# We have the 'ground truth' of which of the held-out 33% of the data was really bioactive. But can we predict it?\n",
    "# If we could, we could predict which compounds might be bioactive without having to actually test them in a lab\n",
    "\n",
    "score = classifier.score(X_test,y_test)\n",
    "\n",
    "print(\"Classifier obtained a mean accuracy score of: {0}\".format(score))\n",
    "\n",
    "y_pred = classifier.predict(X_test)\n",
    "\n",
    "print(classification_report(y_test, y_pred))\n"
   ]
  }
 ],
 "metadata": {
  "kernelspec": {
   "display_name": "Python [conda env:pubchem-sklearn]",
   "language": "python",
   "name": "conda-env-pubchem-sklearn-py"
  },
  "language_info": {
   "codemirror_mode": {
    "name": "ipython",
    "version": 3
   },
   "file_extension": ".py",
   "mimetype": "text/x-python",
   "name": "python",
   "nbconvert_exporter": "python",
   "pygments_lexer": "ipython3",
   "version": "3.6.1"
  }
 },
 "nbformat": 4,
 "nbformat_minor": 2
}
